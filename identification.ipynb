{
 "cells": [
  {
   "cell_type": "markdown",
   "metadata": {},
   "source": []
  },
  {
   "cell_type": "code",
   "execution_count": 2,
   "metadata": {},
   "outputs": [
    {
     "data": {
      "text/plain": [
       "[Database(name='2022_10_22', catalog='spark_catalog', description='FactSet data version for the day', locationUri='hdfs://bialobog.cs.ucl.ac.uk:8020/user/hive/warehouse'),\n",
       " Database(name='2023_04_01', catalog='spark_catalog', description='FactSet data version for the day', locationUri='hdfs://bialobog.cs.ucl.ac.uk:8020/user/hive/warehouse'),\n",
       " Database(name='default', catalog='spark_catalog', description='Default Hive database', locationUri='hdfs://bialobog.cs.ucl.ac.uk:8020/user/hive/warehouse')]"
      ]
     },
     "execution_count": 2,
     "metadata": {},
     "output_type": "execute_result"
    }
   ],
   "source": [
    "import findspark\n",
    "import pandas as pd\n",
    "findspark.init()\n",
    "\n",
    "from pyspark.sql import SparkSession\n",
    "from pyspark import SparkConf\n",
    "\n",
    "# for shared metastore (shared across all users)\n",
    "spark = SparkSession.builder.appName(\"Identification\").config(\"hive.metastore.uris\", \"thrift://bialobog:9083\", conf=SparkConf()).getOrCreate() \\\n",
    "\n",
    "# for local metastore (your private, invidivual database) add the following config to spark session\n",
    "\n",
    "spark.catalog.listDatabases()"
   ]
  },
  {
   "cell_type": "code",
   "execution_count": 20,
   "metadata": {},
   "outputs": [
    {
     "data": {
      "text/plain": [
       "DataFrame[]"
      ]
     },
     "execution_count": 20,
     "metadata": {},
     "output_type": "execute_result"
    }
   ],
   "source": [
    "from pyspark.sql.functions import regexp_replace\n",
    "\n",
    "spark.sql(\"USE 2023_04_01\")\n",
    "    # Assuming that 'ticker' is a valid Python variable\n",
    "\n",
    "\n",
    "\n"
   ]
  },
  {
   "cell_type": "code",
   "execution_count": null,
   "metadata": {},
   "outputs": [],
   "source": [
    "print(ticker_list[:100])"
   ]
  },
  {
   "cell_type": "code",
   "execution_count": 36,
   "metadata": {},
   "outputs": [],
   "source": [
    "import numpy as np\n",
    "import pandas as pd\n",
    "import matplotlib.pyplot as plt\n",
    "import yfinance as yf\n",
    "from sklearn.preprocessing import MinMaxScaler\n",
    "from keras.models import Sequential\n",
    "from keras.layers import LSTM, Dense\n",
    "from sklearn.metrics import mean_squared_error\n",
    "from datetime import datetime\n",
    "from sklearn.linear_model import LinearRegression\n",
    "from scipy.stats import norm\n",
    "from pyspark.sql import Row\n",
    "from pyspark.sql.functions import col, to_date, lit\n",
    "from datetime import timedelta\n",
    "from pyspark.sql.types import StructType, StructField, StringType, DateType\n",
    "import random\n",
    "from tqdm import tqdm\n",
    "import numpy as np\n",
    "import pandas as pd\n",
    "import os\n",
    "import csv\n",
    "\n",
    "imploded_stocks = pd.read_csv('filtered_tickers.csv')\n",
    "imploded_stocks = imploded_stocks['Ticker'].tolist()\n",
    "\n",
    "sp500_stocks = pd.read_csv('constituents.csv', usecols=['Symbol'])\n",
    "sp500_stocks = sp500_stocks['Symbol'].tolist()\n",
    "\n",
    "start_date = '2009-01-01'\n",
    "end_date = datetime.now().strftime('%Y-%m-%d')\n",
    "\n",
    "def get_stock_price_weekly(ticker):\n",
    "    # Suppress the progress message from yfinance\n",
    "    temp_df = yf.download(ticker, start=start_date, end=end_date, progress=False)\n",
    "    if temp_df.empty:\n",
    "        #print(\"No data available for the specified date range.\")\n",
    "        return None\n",
    "    weekly_data = temp_df['Adj Close'].resample('W').last()\n",
    "    return weekly_data\n",
    "\n",
    "def plot_price(ticker):\n",
    "    # Suppress the progress message from yfinance\n",
    "    temp_df = yf.download(ticker, start=start_date, end=end_date, progress=False)\n",
    "    if temp_df.empty:\n",
    "        #print(\"No data available for the specified date range.\")\n",
    "        return None\n",
    "    weekly_data = temp_df['Adj Close'].resample('W').last()\n",
    "    weekly_data.plot()\n",
    "\n",
    "def check_implosion(idx, firm_price, imp_thresh):\n",
    "    i = idx\n",
    "    start_price=firm_price.iloc[idx]\n",
    "    i+=1\n",
    "    period=0\n",
    "    while i < len(firm_price):\n",
    "        current_date = firm_price.index[i]\n",
    "        current_price = firm_price.iloc[i]\n",
    "        if (current_price-start_price)/start_price > -imp_thresh/2:\n",
    "            return period\n",
    "        period+=1\n",
    "        i+=1\n",
    "    return period\n",
    "\n",
    "def get_crash_dates(firm_price, price_drop_thresh=-0.6, period_thresh=52):\n",
    "    crash_dates = []\n",
    "    imp_dates = []\n",
    "    i = 52\n",
    "    while i < len(firm_price):\n",
    "        current_date = firm_price.index[i]\n",
    "        current_price = firm_price.iloc[i]\n",
    "        prev_year_data = firm_price.iloc[i-52:i]\n",
    "        if len(prev_year_data) != 0:\n",
    "            mean_price = prev_year_data.mean()\n",
    "            if (current_price - mean_price)/mean_price < price_drop_thresh:\n",
    "                imp_dates.append(current_date)\n",
    "        i+=1\n",
    "    return imp_dates\n",
    "\n",
    "def get_implosion_dates(firm_price, price_drop_thresh=-0.6, period_thresh=52):\n",
    "    crash_dates = []\n",
    "    imp_dates = []\n",
    "    i = 52\n",
    "    while i < len(firm_price):\n",
    "        current_date = firm_price.index[i]\n",
    "        current_price = firm_price.iloc[i]\n",
    "        prev_year_data = firm_price.iloc[i-52:i]\n",
    "        if len(prev_year_data) != 0:\n",
    "            mean_price = prev_year_data.mean()\n",
    "            if (current_price - mean_price)/mean_price < price_drop_thresh:\n",
    "                imp_period = check_implosion(i, firm_price,  price_drop_thresh)\n",
    "                if imp_period > period_thresh:\n",
    "                    imp_dates.append((current_date, firm_price.index[i+imp_period]))\n",
    "                i+=imp_period\n",
    "        i+=1\n",
    "    return imp_dates\n",
    "\n",
    "def plot_implosions(stock_series, imp_dates, ticker):\n",
    "    plt.figure(figsize=(15, 5))\n",
    "    plt.plot(stock_series.index, stock_series, label=ticker)\n",
    "    for i in imp_dates:\n",
    "        plt.axvspan(i[0], i[1], alpha=0.5, color='blue')\n",
    "    plt.legend()\n",
    "    plt.show()\n",
    "\n",
    "def run_imps(stocks_list):\n",
    "    num_imp = 0\n",
    "    j = 0\n",
    "    for t in stocks_list:\n",
    "        stock_series = get_stock_price_weekly(t)\n",
    "        if stock_series is not None:\n",
    "            imp_dates = get_implosion_dates(stock_series)\n",
    "            if j % 10 == 0:\n",
    "                plot_implosions(stock_series, imp_dates, t)    \n",
    "            j+=1\n",
    "            if len(imp_dates) >= 1:\n",
    "                num_imp+=1\n",
    "            # if len(imp_dates) ==0:\n",
    "            #     plot_implosions(stock_series, imp_dates, t)\n",
    "    print(f\"{num_imp} out of {j} imploded\")\n",
    "    return num_imp\n",
    "\n",
    "def plot_crashes(ticker):\n",
    "    stock_series = get_stock_price_weekly(ticker)\n",
    "    crash_dates = get_crash_dates(stock_series)\n",
    "    plt.figure(figsize=(15, 5))\n",
    "    plt.plot(stock_series.index, stock_series, label=ticker)\n",
    "    for c in crash_dates:\n",
    "        plt.axvspan(c,c, alpha=0.5, color='blue')\n",
    "    plt.legend()\n",
    "    plt.show()\n",
    "\n",
    "def get_all_stocks():\n",
    "    query = f\"\"\"SELECT ticker_region FROM sym_ticker_region WHERE ticker_region LIKE \"%-US\" AND ticker_region NOT LIKE '%.%' \"\"\"\n",
    "    df = spark.sql(query)\n",
    "    df = df.withColumn(\"ticker_region\", regexp_replace(\"ticker_region\", \"-US$\", \"\"))\n",
    "    ticker_list = [row.ticker_region for row in df.collect()]\n",
    "    return ticker_list\n",
    "\n",
    "def create_imploded_df(ticker_list):\n",
    "    schema = StructType([StructField(\"Ticker\", StringType(), True),\n",
    "                     StructField(\"Implosion_Date\", StringType(), True)])\n",
    "    #df = pd.read_csv('imploded_tickers_dates.csv', index_col=None, usecols=['Ticker','Implosion_Date'])\n",
    "    df = spark.createDataFrame([],schema)\n",
    "    for t in ticker_list:\n",
    "        stock_series = get_stock_price_weekly(t)\n",
    "        if stock_series is not None and max(stock_series) > 5:\n",
    "            imp_dates = get_implosion_dates(stock_series)\n",
    "            if len(imp_dates)!=0:\n",
    "                for date in imp_dates:\n",
    "                    date_str = pd.to_datetime(date[0]).strftime('%Y-%m-%d')\n",
    "                    #date = to_date(date[0],'yyyy-MM-dd')\n",
    "                    row = Row(Ticker=t, Implosion_Date=date_str)\n",
    "                    df = df.union(spark.createDataFrame([row],schema=schema))\n",
    "            # if len(imp_dates)!= 0: \n",
    "            #     for d in imp_dates:\n",
    "            #         date = d[0]\n",
    "            #         df = df.withColumn('Imploded',when((col('Ticker') == t) & (year('Date') == date.year) & (month('Date') == date.month),1\n",
    "            #             ).otherwise(col('Imploded'))) \n",
    "    print(df.show(10)) \n",
    "    df=df.orderBy('Ticker')\n",
    "    df.toPandas().to_csv('imploded_tickers_dates_test.csv', index='False')\n",
    "    \n",
    "\n",
    "# ticker_list = sorted(get_all_stocks()[:5000])\n",
    "\n",
    "# create_imploded_df(ticker_list)\n",
    "# df = pd.read_csv('imploded_tickers_dates')\n",
    "# run_imps(df['Ticker'].unique().tolist())\n",
    "#run_imps(['EMCMF'])\n",
    "#add_labels_to_df('imploded_only.csv')\n",
    "#plot_crashes('SEAC')\n",
    "#APPN,CPS, FOSL, GRPN,PRLB, SEAC\n",
    "#APPN has not imploded\n",
    "#CPS has not imploded\n",
    "#imploded: 377/433, sp500:  russell: 243/1754 imploded"
   ]
  },
  {
   "cell_type": "code",
   "execution_count": 15,
   "metadata": {},
   "outputs": [
    {
     "name": "stdout",
     "output_type": "stream",
     "text": [
      "     Unnamed: 0 Ticker Implosion_Date  month\n",
      "0             0  EMCMF     2022-09-04      9\n",
      "1             1  MGAWF     2022-10-30     10\n",
      "2             2   SWNM     2022-04-10      4\n",
      "5             5  MBGCF     2022-04-03      4\n",
      "9             9  KNFSF     2022-05-01      5\n",
      "..          ...    ...            ...    ...\n",
      "465         465   WPRT     2022-01-23      1\n",
      "466         466   WTER     2022-05-08      5\n",
      "467         467     WW     2022-03-06      3\n",
      "476         476   ZLAB     2022-01-16      1\n",
      "477         477     ZM     2022-03-06      3\n",
      "\n",
      "[147 rows x 4 columns]\n"
     ]
    },
    {
     "name": "stderr",
     "output_type": "stream",
     "text": [
      "/tmp/ipykernel_773333/3785358816.py:6: SettingWithCopyWarning: \n",
      "A value is trying to be set on a copy of a slice from a DataFrame.\n",
      "Try using .loc[row_indexer,col_indexer] = value instead\n",
      "\n",
      "See the caveats in the documentation: https://pandas.pydata.org/pandas-docs/stable/user_guide/indexing.html#returning-a-view-versus-a-copy\n",
      "  df_2022['month'] = df_2022['Implosion_Date'].dt.month\n"
     ]
    },
    {
     "data": {
      "image/png": "[encoded data removed]",
      "text/plain": [
       "<Figure size 640x480 with 1 Axes>"
      ]
     },
     "metadata": {},
     "output_type": "display_data"
    }
   ],
   "source": [
    "def visualize_implosions(df):\n",
    "    df['Implosion_Date'] = pd.to_datetime(df['Implosion_Date'])\n",
    "\n",
    "    df_2022 = df[df['Implosion_Date'].dt.year == 2022]\n",
    "\n",
    "    df_2022['month'] = df_2022['Implosion_Date'].dt.month\n",
    "\n",
    "    implosions_per_month = df_2022.groupby('month').size()\n",
    "    print(df_2022)\n",
    "\n",
    "    implosions_per_month.plot(kind='bar', color='skyblue')\n",
    "\n",
    "    plt.title('Number of Implosions in 2022')\n",
    "    plt.xlabel('Month')\n",
    "    plt.ylabel('Number of Implosions')\n",
    "\n",
    "    plt.show()\n",
    "    \n",
    "df = pd.read_csv('imploded_tickers_dates.csv')\n",
    "visualize_implosions(df)"
   ]
  },
  {
   "cell_type": "code",
   "execution_count": null,
   "metadata": {},
   "outputs": [],
   "source": [
    "# import csv\n",
    "\n",
    "# def save_weekly_prices():\n",
    "#     filtered_tickers = []  # A list to store the ticker names\n",
    "\n",
    "#     for ticker in russell_stocks:\n",
    "#         t_df = get_stock_price_weekly(ticker)\n",
    "#         if t_df is not None:\n",
    "#             max_price = max(t_df)  # Replace 'price' with the actual column name\n",
    "#             if max_price >= 100:\n",
    "#                 filtered_tickers.append(ticker)\n",
    "\n",
    "#     csv_file_name = 'filtered_russell_tickers.csv'\n",
    "\n",
    "#     # Open the CSV file in write mode\n",
    "#     with open(csv_file_name, mode='w', newline='') as file:\n",
    "#         writer = csv.writer(file)  # Create a CSV writer object\n",
    "\n",
    "#         # Write the ticker names to the CSV file\n",
    "#         writer.writerow(['Ticker'])  # Write a header row\n",
    "#         for ticker in filtered_tickers:\n",
    "#             writer.writerow([ticker])\n",
    "\n",
    "# save_weekly_prices()\n"
   ]
  },
  {
   "cell_type": "code",
   "execution_count": null,
   "metadata": {},
   "outputs": [],
   "source": [
    "spark.stop()"
   ]
  },
  {
   "cell_type": "code",
   "execution_count": null,
   "metadata": {},
   "outputs": [],
   "source": [
    "imploded_stocks"
   ]
  },
  {
   "cell_type": "code",
   "execution_count": 40,
   "metadata": {},
   "outputs": [
    {
     "name": "stdout",
     "output_type": "stream",
     "text": [
      "478\n",
      "449\n"
     ]
    }
   ],
   "source": [
    "def remove_low_tickers():\n",
    "    df = pd.read_csv('imploded_tickers_dates.csv')\n",
    "    tickers_to_remove = []\n",
    "    print(len(df))\n",
    "\n",
    "    for t in df['Ticker'].unique().tolist():\n",
    "        stock_price = get_stock_price_weekly(t)\n",
    "        if max(stock_price) < 5:\n",
    "            tickers_to_remove.append(t)\n",
    "\n",
    "    df = df[~df['Ticker'].isin(tickers_to_remove)]\n",
    "    print(len(df))\n",
    "\n",
    "    df.to_csv('imploded_tickers_dates.csv', index=False)\n",
    "    \n",
    "#remove_low_tickers()\n",
    "            "
   ]
  },
  {
   "cell_type": "code",
   "execution_count": null,
   "metadata": {},
   "outputs": [],
   "source": []
  }
 ],
 "metadata": {
  "kernelspec": {
   "display_name": "Python 3 (ipykernel)",
   "language": "python",
   "name": "python3"
  },
  "language_info": {
   "codemirror_mode": {
    "name": "ipython",
    "version": 3
   },
   "file_extension": ".py",
   "mimetype": "text/x-python",
   "name": "python",
   "nbconvert_exporter": "python",
   "pygments_lexer": "ipython3",
   "version": "3.10.12"
  },
  "toc-autonumbering": false,
  "toc-showcode": false,
  "toc-showmarkdowntxt": false
 },
 "nbformat": 4,
 "nbformat_minor": 4
}
