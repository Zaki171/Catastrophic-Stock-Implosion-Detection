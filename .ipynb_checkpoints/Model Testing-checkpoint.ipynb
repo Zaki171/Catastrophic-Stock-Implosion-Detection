{
 "cells": [
  {
   "cell_type": "code",
   "execution_count": null,
   "id": "d57c8523-119a-4d35-bfed-df9cb6d9471e",
   "metadata": {},
   "outputs": [],
   "source": [
    "def lasso_fs():\n",
    "    result_df = pd.read_csv('Advanced_AF_DER_Dataset.csv', index_col=None)\n",
    "    print(len(result_df))\n",
    "    result_df['date'] = pd.to_datetime(result_df['date'])\n",
    "    result_df['Year'] = result_df['date'].dt.year\n",
    "    result_df['Month'] = result_df['date'].dt.month\n",
    "    result_df['DayOfWeek'] = result_df['date'].dt.dayofweek\n",
    "    X = result_df.drop(['Ticker', 'date', 'Implosion_Next_Year'], axis=1)\n",
    "    cols = X.columns\n",
    "    print(X.head())\n",
    "    Y = result_df['Implosion_Next_Year']\n",
    "\n",
    "    tscv = TimeSeriesSplit(n_splits=5)\n",
    "\n",
    "    for train_index, test_index in tscv.split(X):\n",
    "        X_train, X_test = X.iloc[train_index], X.iloc[test_index]\n",
    "        y_train, y_test = Y.iloc[train_index], Y.iloc[test_index]\n",
    "\n",
    "        scaler = StandardScaler()\n",
    "        scaler.fit(X_train)\n",
    "        X_train_scaled = scaler.transform(X_train)\n",
    "        X_test_scaled = scaler.transform(X_test)\n",
    "\n",
    "        alpha = 0.01\n",
    "        lasso_model = Lasso(alpha=alpha)\n",
    "        lasso_model.fit(X_train_scaled, y_train)\n",
    "\n",
    "        feature_importances = lasso_model.coef_\n",
    "\n",
    "        feature_importance_df = pd.DataFrame({'Feature': cols, 'Importance': feature_importances})\n",
    "\n",
    "        feature_importance_df['Absolute Importance'] = feature_importance_df['Importance'].abs()\n",
    "        feature_importance_df = feature_importance_df.sort_values(by='Absolute Importance', ascending=False).drop('Absolute Importance', axis=1)\n",
    "        print(f'Feature Importances for Fold {tscv.get_n_splits()}:')\n",
    "        print(feature_importance_df)\n",
    "        \n",
    "        \n",
    "def boruta_fs():\n",
    "    result_df = pd.read_csv('Advanced_AF_DER_Dataset.csv', index_col=None)\n",
    "    X = result_df.drop(['Ticker', 'date', 'Implosion_Next_Year'], axis=1)\n",
    "    Y = result_df['Implosion_Next_Year']\n",
    "    scaler = StandardScaler()\n",
    "    scaler.fit(X)\n",
    "    X=scaler.transform(X)\n",
    "    X_train, X_test, y_train, y_test = train_test_split(X,Y,test_size=0.2, random_state=42)\n",
    "    \n",
    "    model = xgb.XGBClassifier()\n",
    "    feat_selector = BorutaPy(model, n_estimators='auto', verbose=2, random_state=1)\n",
    "    feat_selector.fit(X_train, y_train)\n",
    "    \n",
    "    print(feat_selector.support_)\n",
    "    print(feat_selector.ranking_)\n",
    "    \n",
    "    \n"
   ]
  }
 ],
 "metadata": {
  "kernelspec": {
   "display_name": "Python 3 (ipykernel)",
   "language": "python",
   "name": "python3"
  },
  "language_info": {
   "codemirror_mode": {
    "name": "ipython",
    "version": 3
   },
   "file_extension": ".py",
   "mimetype": "text/x-python",
   "name": "python",
   "nbconvert_exporter": "python",
   "pygments_lexer": "ipython3",
   "version": "3.10.12"
  }
 },
 "nbformat": 4,
 "nbformat_minor": 5
}
