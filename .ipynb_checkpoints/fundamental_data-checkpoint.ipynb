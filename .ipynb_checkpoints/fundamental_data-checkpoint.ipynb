{
 "cells": [
  {
   "cell_type": "code",
   "execution_count": 1,
   "id": "3e9989a2-2a32-4b50-9f32-699e89186404",
   "metadata": {},
   "outputs": [
    {
     "data": {
      "text/plain": [
       "[Database(name='2022_10_22', catalog='spark_catalog', description='FactSet data version for the day', locationUri='hdfs://bialobog.cs.ucl.ac.uk:8020/user/hive/warehouse'),\n",
       " Database(name='2023_04_01', catalog='spark_catalog', description='FactSet data version for the day', locationUri='hdfs://bialobog.cs.ucl.ac.uk:8020/user/hive/warehouse'),\n",
       " Database(name='default', catalog='spark_catalog', description='Default Hive database', locationUri='hdfs://bialobog.cs.ucl.ac.uk:8020/user/hive/warehouse')]"
      ]
     },
     "execution_count": 1,
     "metadata": {},
     "output_type": "execute_result"
    }
   ],
   "source": [
    "import findspark\n",
    "import pandas as pd\n",
    "findspark.init()\n",
    "\n",
    "from pyspark.sql import SparkSession\n",
    "from pyspark import SparkConf\n",
    "\n",
    "# for shared metastore (shared across all users)\n",
    "spark = SparkSession.builder.appName(\"List available databases and tables\").config(\"hive.metastore.uris\", \"thrift://bialobog:9083\", conf=SparkConf()).getOrCreate() \\\n",
    "\n",
    "# for local metastore (your private, invidivual database) add the following config to spark session\n",
    "\n",
    "spark.catalog.listDatabases()"
   ]
  },
  {
   "cell_type": "code",
   "execution_count": 2,
   "id": "e09a3162-25b7-416d-b765-96669b96b50b",
   "metadata": {},
   "outputs": [
    {
     "name": "stdout",
     "output_type": "stream",
     "text": [
      "+----------+--------------------+-----------+\n",
      "| namespace|           tableName|isTemporary|\n",
      "+----------+--------------------+-----------+\n",
      "|2023_04_01|  affiliate_type_map|      false|\n",
      "|2023_04_01|     asset_class_map|      false|\n",
      "|2023_04_01|      audit_type_map|      false|\n",
      "|2023_04_01|ca_div_freq_qual_map|      false|\n",
      "|2023_04_01|     ca_div_type_map|      false|\n",
      "|2023_04_01|   ca_event_type_map|      false|\n",
      "|2023_04_01| ce_audio_source_map|      false|\n",
      "|2023_04_01|   ce_event_type_map|      false|\n",
      "|2023_04_01|ce_fiscal_period_map|      false|\n",
      "|2023_04_01|  ce_market_time_map|      false|\n",
      "+----------+--------------------+-----------+\n",
      "only showing top 10 rows\n",
      "\n"
     ]
    }
   ],
   "source": [
    "spark.sql(\"SHOW TABLES IN 2023_04_01\").show(10)"
   ]
  },
  {
   "cell_type": "code",
   "execution_count": 3,
   "id": "e9337ae4-d830-40cd-b8dd-a025e9afa4d5",
   "metadata": {},
   "outputs": [],
   "source": [
    "imploded_stocks = pd.read_csv('filtered_tickers.csv')\n",
    "imploded_stocks = imploded_stocks['Ticker'].tolist()\n",
    "sp500_stocks = pd.read_csv('spx500.csv', usecols=['Symbol'])\n",
    "sp500_stocks = sp500_stocks['Symbol'].tolist()"
   ]
  },
  {
   "cell_type": "code",
   "execution_count": 4,
   "id": "d4014111-e7b0-46f3-8a94-e02db58cd2a5",
   "metadata": {},
   "outputs": [],
   "source": [
    "import random\n",
    "\n",
    "random_seed = 42\n",
    "random.seed(random_seed)\n",
    "combined_stocks = imploded_stocks + sp500_stocks\n",
    "#random.shuffle(combined_stocks)\n",
    "combined_stocks = sorted(combined_stocks)\n"
   ]
  },
  {
   "cell_type": "code",
   "execution_count": 5,
   "id": "50ece0df-9c71-478e-9617-3cd142bd32a7",
   "metadata": {},
   "outputs": [],
   "source": [
    "import yfinance as yf\n",
    "from datetime import datetime\n",
    "\n",
    "def pull_stock_monthly(stock_list, start_date='2009-01-01', end_date=datetime.now().strftime('%Y-%m-%d')):\n",
    "    all_series = []\n",
    "    for t in stock_list:\n",
    "        df = yf.download(t, start=start_date, end=end_date, progress=False)\n",
    "        if not(df.empty):\n",
    "            monthly_df = df['Adj Close'].resample('M').last().to_frame()\n",
    "            monthly_df['Ticker'] = t\n",
    "            all_series.append(monthly_df)\n",
    "    combined_df = pd.concat(all_series, axis=0)\n",
    "    combined_df.to_csv('imploded_sp500.csv')\n",
    "        \n",
    "\n",
    "#pull_stock_monthly(combined_stocks)\n",
    "#with (filtered) imploded stocks and sp500 stocks the total number of rows of data is 134,523 (monthly)"
   ]
  },
  {
   "cell_type": "code",
   "execution_count": 18,
   "id": "25d58f1c-af0b-4d11-b9ff-e2a359352fea",
   "metadata": {},
   "outputs": [],
   "source": [
    "import os\n",
    "def get_data(filename):\n",
    "    pandas_df = pd.read_csv(filename)\n",
    "    pandas_df = pandas_df[[\"Ticker\", \"Date\", \"Adj Close\", \"Imploded\"]]\n",
    "    pandas_df = pandas_df.rename(columns={\"Adj Close\": \"Price\"})\n",
    "    spark_df = spark.createDataFrame(pandas_df)\n",
    "    spark_df.show(10)\n",
    "    \n",
    "    return spark_df\n",
    "\n",
    "#task of which stocks vs when stock implodes"
   ]
  },
  {
   "cell_type": "code",
   "execution_count": 27,
   "id": "4a298f65-c1d2-4bf4-8872-342736ab3bdf",
   "metadata": {},
   "outputs": [
    {
     "name": "stdout",
     "output_type": "stream",
     "text": [
      "+------+----------+------------------+--------+\n",
      "|Ticker|      Date|             Price|Imploded|\n",
      "+------+----------+------------------+--------+\n",
      "|     A|2009-01-31|11.661892890930176|       0|\n",
      "|     A|2009-02-28| 8.946370124816895|       0|\n",
      "|     A|2009-03-31| 9.913894653320312|       0|\n",
      "|     A|2009-04-30|11.777990341186523|       0|\n",
      "|     A|2009-05-31|11.758644104003906|       0|\n",
      "|     A|2009-06-30|13.100275993347168|       0|\n",
      "|     A|2009-07-31|14.977276802062988|       0|\n",
      "|     A|2009-08-31|16.564008712768555|       0|\n",
      "|     A|2009-09-30|17.950803756713867|       0|\n",
      "|     A|2009-10-31| 15.95769500732422|       0|\n",
      "+------+----------+------------------+--------+\n",
      "only showing top 10 rows\n",
      "\n",
      "Number of null values in Ticker: 0\n",
      "Number of null values in Date: 0\n",
      "Number of null values in Price: 0\n",
      "Number of null values in Imploded: 0\n"
     ]
    }
   ],
   "source": [
    "df = get_data('labelled_df.csv')"
   ]
  },
  {
   "cell_type": "code",
   "execution_count": 27,
   "id": "27602690-2954-43cb-9eec-e66945440517",
   "metadata": {},
   "outputs": [
    {
     "name": "stdout",
     "output_type": "stream",
     "text": [
      "+------+----------+------------------+--------+\n",
      "|Ticker|      Date|             Price|Imploded|\n",
      "+------+----------+------------------+--------+\n",
      "|     A|2009-01-31|11.661892890930176|       0|\n",
      "|     A|2009-02-28| 8.946370124816895|       0|\n",
      "|     A|2009-03-31| 9.913894653320312|       0|\n",
      "|     A|2009-04-30|11.777990341186523|       0|\n",
      "|     A|2009-05-31|11.758644104003906|       0|\n",
      "|     A|2009-06-30|13.100275993347168|       0|\n",
      "|     A|2009-07-31|14.977276802062988|       0|\n",
      "|     A|2009-08-31|16.564008712768555|       0|\n",
      "|     A|2009-09-30|17.950803756713867|       0|\n",
      "|     A|2009-10-31| 15.95769500732422|       0|\n",
      "+------+----------+------------------+--------+\n",
      "only showing top 10 rows\n",
      "\n",
      "Number of null values in Ticker: 0\n",
      "Number of null values in Date: 0\n",
      "Number of null values in Price: 0\n",
      "Number of null values in Imploded: 0\n"
     ]
    }
   ],
   "source": [
    "def imploded_only(full_df):\n",
    "    unique_tickers_df = spark_df.select(\"Ticker\").distinct()\n",
    "    unique_tickers = [row.Ticker for row in unique_tickers_df.collect()]\n",
    "    "
   ]
  },
  {
   "cell_type": "code",
   "execution_count": 25,
   "id": "581439d4-e3a0-4e84-b316-1f8207931d52",
   "metadata": {},
   "outputs": [
    {
     "name": "stdout",
     "output_type": "stream",
     "text": [
      "422\n"
     ]
    },
    {
     "data": {
      "image/png": "[encoded data removed]",
      "text/plain": [
       "<Figure size 500x200 with 1 Axes>"
      ]
     },
     "metadata": {},
     "output_type": "display_data"
    }
   ],
   "source": [
    "from pyspark.sql.functions import col\n",
    "\n",
    "def imploded_vs_normal(df):\n",
    "    imploded = df.filter(col('Imploded')==1).count()\n",
    "    normal = df.filter(col('Imploded')==0).count()\n",
    "    print(imploded)\n",
    "    plt.figure(figsize=(5,2))\n",
    "    plt.bar(['Non-imploded', 'Imploded'], [normal, imploded])\n",
    "    plt.ylabel('Number of samples')\n",
    "    plt.show()\n",
    "\n",
    "imploded_vs_normal(df)"
   ]
  },
  {
   "cell_type": "code",
   "execution_count": 7,
   "id": "99ee2ff4-62f8-44c0-9843-347c529fa1f0",
   "metadata": {},
   "outputs": [],
   "source": [
    "def pull_fundamental(ticker, start_date, end_date):\n",
    "    spark.sql(\"USE 2023_04_01\")\n",
    "    # Assuming that 'ticker' is a valid Python variable\n",
    "\n",
    "    query = f\"\"\"SELECT d.ticker_region, a.date, a.ff_assets \n",
    "                FROM FF_BASIC_QF a \n",
    "                LEFT JOIN sym_ticker_region d ON d.fsym_id = a.fsym_id \n",
    "                WHERE d.ticker_region = \"{ticker}-US\" \n",
    "                AND a.date >= \"{start_date}\" AND a.date <= \"{end_date}\"\n",
    "                ORDER BY a.date\"\"\"\n",
    "\n",
    "    df = spark.sql(query)\n",
    "    #print(df.show(10,False))\n",
    "    return df\n",
    "\n",
    "def add_fundamental(spark_df):\n",
    "    unique_tickers_df = spark_df.select(\"Ticker\").distinct()\n",
    "    unique_tickers = [row.Ticker for row in unique_tickers_df.collect()]\n",
    "    unique_tickers = unique_tickers[:10]\n",
    "    full_fund_df = None\n",
    "    for t in unique_tickers:\n",
    "        print(t)\n",
    "        filtered_df = spark_df.filter(spark_df[\"Ticker\"] == t)\n",
    "        start_date = filtered_df.agg({\"Date\": \"min\"}).collect()[0][0]\n",
    "        end_date = filtered_df.agg({\"Date\": \"max\"}).collect()[0][0]\n",
    "        fund_df = pull_fundamental(t, start_date, end_date)\n",
    "        if full_fund_df is None:\n",
    "            full_fund_df = fund_df\n",
    "        else:\n",
    "            full_fund_df = full_fund_df.union(fund_df)\n",
    "    full_fund_df.show(100)\n",
    "        \n",
    "        \n",
    "    \n",
    "#pull_fundamental('ABEO')\n",
    "# stock_df = get_data('imploded_sp500.csv')\n",
    "# add_fundamental(stock_df)\n",
    "#get sp500 stocks\n",
    "#get imploded stocks\n",
    "#randomise order\n",
    "#get monthly dates\n",
    "#returns\n",
    "    "
   ]
  },
  {
   "cell_type": "code",
   "execution_count": null,
   "id": "458ccbb1-2394-4663-a06a-ba862114a38a",
   "metadata": {},
   "outputs": [],
   "source": []
  }
 ],
 "metadata": {
  "kernelspec": {
   "display_name": "Python 3 (ipykernel)",
   "language": "python",
   "name": "python3"
  },
  "language_info": {
   "codemirror_mode": {
    "name": "ipython",
    "version": 3
   },
   "file_extension": ".py",
   "mimetype": "text/x-python",
   "name": "python",
   "nbconvert_exporter": "python",
   "pygments_lexer": "ipython3",
   "version": "3.10.12"
  }
 },
 "nbformat": 4,
 "nbformat_minor": 5
}
