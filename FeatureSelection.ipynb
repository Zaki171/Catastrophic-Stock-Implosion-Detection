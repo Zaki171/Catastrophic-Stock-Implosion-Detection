{
 "cells": [
  {
   "cell_type": "code",
   "execution_count": 1,
   "id": "670562d2-8524-4cf9-ad4f-98f0f8d17da4",
   "metadata": {},
   "outputs": [
    {
     "data": {
      "text/plain": [
       "[Database(name='2022_10_22', catalog='spark_catalog', description='FactSet data version for the day', locationUri='hdfs://bialobog.cs.ucl.ac.uk:8020/user/hive/warehouse'),\n",
       " Database(name='2023_04_01', catalog='spark_catalog', description='FactSet data version for the day', locationUri='hdfs://bialobog.cs.ucl.ac.uk:8020/user/hive/warehouse'),\n",
       " Database(name='default', catalog='spark_catalog', description='Default Hive database', locationUri='hdfs://bialobog.cs.ucl.ac.uk:8020/user/hive/warehouse')]"
      ]
     },
     "execution_count": 1,
     "metadata": {},
     "output_type": "execute_result"
    }
   ],
   "source": [
    "import findspark\n",
    "import pandas as pd\n",
    "findspark.init()\n",
    "\n",
    "from pyspark.sql import SparkSession\n",
    "from pyspark import SparkConf\n",
    "\n",
    "# for shared metastore (shared across all users)\n",
    "spark = SparkSession.builder.appName(\"List available databases and tables\").config(\"hive.metastore.uris\", \"thrift://bialobog:9083\", conf=SparkConf()).getOrCreate() \\\n",
    "\n",
    "# for local metastore (your private, invidivual database) add the following config to spark session\n",
    "\n",
    "spark.catalog.listDatabases()"
   ]
  },
  {
   "cell_type": "code",
   "execution_count": 2,
   "id": "3bc300bf-4c9f-448c-b671-c3586de8ff31",
   "metadata": {},
   "outputs": [
    {
     "data": {
      "text/plain": [
       "DataFrame[]"
      ]
     },
     "execution_count": 2,
     "metadata": {},
     "output_type": "execute_result"
    }
   ],
   "source": [
    "from pyspark.sql.functions import regexp_replace\n",
    "from pyspark.sql import functions as F\n",
    "\n",
    "spark.sql(\"USE 2023_04_01\")\n"
   ]
  },
  {
   "cell_type": "code",
   "execution_count": 3,
   "id": "51b93aa4-d662-44c9-89e1-32c1ec8cb8e5",
   "metadata": {},
   "outputs": [],
   "source": [
    "from Boruta import BorutaPy\n",
    "\n",
    "import pandas as pd\n",
    "from sklearn.preprocessing import StandardScaler\n",
    "from sklearn.model_selection import train_test_split\n",
    "import xgboost as xgb\n",
    "from sklearn.linear_model import Lasso\n",
    "from sklearn.model_selection import TimeSeriesSplit\n",
    "from sklearn.metrics import mean_squared_error\n",
    "from sklearn.ensemble import RandomForestClassifier\n",
    "\n",
    "def boruta_fs(df):\n",
    "    df = df.toPandas()\n",
    "    print(df.head())\n",
    "    exclude_columns = ['fsym_id', 'label']\n",
    "    df = df[df.loc[:, ~df.columns.isin(exclude_columns)].apply(lambda row: all(len(cell) == 22 for cell in row), axis=1)]\n",
    "    print(\"Number of records: \", len(df))\n",
    "    \n",
    "    X = df.drop(exclude_columns, axis=1)\n",
    "    y = df['label']\n",
    "    X_train, X_test, y_train, y_test = train_test_split(X, y, test_size=0.3, random_state=42)\n",
    "    \n",
    "    model = xgb.XGBClassifier()\n",
    "    feat_selector = BorutaPy(model, n_estimators='auto', verbose=2, random_state=1)\n",
    "    feat_selector.fit(X_train, y_train)\n",
    "    \n",
    "    print(feat_selector.support_)\n",
    "    print(feat_selector.ranking_)\n",
    "    "
   ]
  },
  {
   "cell_type": "code",
   "execution_count": 4,
   "id": "721092f0-a27d-4995-b6bc-87d9151e91bc",
   "metadata": {},
   "outputs": [
    {
     "name": "stderr",
     "output_type": "stream",
     "text": [
      "/opt/spark/python/pyspark/pandas/__init__.py:50: UserWarning: 'PYARROW_IGNORE_TIMEZONE' environment variable was not set. It is required to set this environment variable to '1' in both driver and executor sides if you use pyarrow>=2.0.0. pandas-on-Spark will set it for you but it does not work if there is a Spark context already launched.\n",
      "  warnings.warn(\n"
     ]
    },
    {
     "name": "stdout",
     "output_type": "stream",
     "text": [
      "File found\n"
     ]
    },
    {
     "name": "stderr",
     "output_type": "stream",
     "text": [
      "/home/ztewari/Stock-Implosion-Prediction-FYP/CreateDataset.py:155: SettingWithCopyWarning: \n",
      "A value is trying to be set on a copy of a slice from a DataFrame.\n",
      "Try using .loc[row_indexer,col_indexer] = value instead\n",
      "\n",
      "See the caveats in the documentation: https://pandas.pydata.org/pandas-docs/stable/user_guide/indexing.html#returning-a-view-versus-a-copy\n",
      "  df['date_for_year'] = df['fsym_id'].map({k: list(generate_dates()) for k, g in df.groupby('fsym_id')})\n"
     ]
    },
    {
     "name": "stdout",
     "output_type": "stream",
     "text": [
      "    fsym_id                                       ff_assets_gr  \\\n",
      "0  B01DPB-R  [-0.014595571478033439, -0.010777702513382885,...   \n",
      "1  B04HL7-R  [-0.017397073496077105, -0.020468159238539684,...   \n",
      "2  B0592Z-R  [-0.22886968060721727, -0.06601791095714236, 0...   \n",
      "3  B14762-R  [-0.032416479717869116, -0.010892328172492517,...   \n",
      "4  B14DJ7-R  [-0.03358909949090103, -0.030525608273185175, ...   \n",
      "\n",
      "                                         ff_earn_yld  \\\n",
      "0  [0.02092100143201426, 0.021141620914616178, 0....   \n",
      "1  [0.02122850411385511, 0.021808476383660094, 0....   \n",
      "2  [0.019967765951548373, 0.020620576308470057, 0...   \n",
      "3  [0.021455647121493452, 0.02170320233551796, 0....   \n",
      "4  [0.02177414232478644, 0.02119885143432527, 0.0...   \n",
      "\n",
      "                           ff_net_inc_basic_aft_xord  \\\n",
      "0  [0.04957930125973168, 0.018614827674471292, -0...   \n",
      "1  [-0.20109244752845495, -0.16673331652565856, -...   \n",
      "2  [-0.1861407339251776, -0.23067811361755566, -0...   \n",
      "3  [-0.15083260615478794, -0.13750702431330955, -...   \n",
      "4  [-0.1446482909834235, -0.08167362855310845, -0...   \n",
      "\n",
      "                          ff_net_inc_dil_bef_unusual  \\\n",
      "0  [0.13504820177528631, 0.10126250027636911, -0....   \n",
      "1  [-0.21175652332886377, -0.22398073965568105, -...   \n",
      "2  [-0.22411254644226325, -0.2395845132108922, -0...   \n",
      "3  [-0.20430543020200528, -0.15150574287844923, -...   \n",
      "4  [-0.15699579897020402, -0.1373852054718495, -0...   \n",
      "\n",
      "                          ff_net_inc_basic_beft_xord  \\\n",
      "0  [0.07354246645687067, 0.05708421547005247, -0....   \n",
      "1  [-0.19748333938777396, -0.2064906103202723, -0...   \n",
      "2  [-0.18893935935955367, -0.23090783159374437, -...   \n",
      "3  [-0.1854046003058778, -0.13549119142094876, -0...   \n",
      "4  [-0.1442531188020559, -0.080191792180311, -0.1...   \n",
      "\n",
      "                                            ff_wkcap  \\\n",
      "0  [0.18972394868517906, 0.1581645989575081, 0.14...   \n",
      "1  [0.05133152587468933, 0.026572200034038613, 0....   \n",
      "2  [0.05324640269372571, 0.02980394937592313, 0.0...   \n",
      "3  [0.03975731004141995, 0.046002414766225616, 0....   \n",
      "4  [0.04477947474130631, 0.03217697945909385, 0.0...   \n",
      "\n",
      "                             ff_oper_inc_aft_unusual  \\\n",
      "0  [0.01764651285767432, -0.0030999220146436164, ...   \n",
      "1  [-0.20179497620476425, -0.234030581601425, -0....   \n",
      "2  [-0.20581580634897506, -0.24311889338062498, -...   \n",
      "3  [-0.21166402088043865, -0.1495099482713293, -0...   \n",
      "4  [-0.15402782661754016, -0.10455877372907545, -...   \n",
      "\n",
      "                              ff_net_inc_bef_xord_gr  \\\n",
      "0  [0.025246373787348987, 0.0363946189577541, 0.0...   \n",
      "1  [0.035963060302550365, 0.04397952810850863, 0....   \n",
      "2  [0.03912373151724399, 0.04397297754338875, 0.0...   \n",
      "3  [0.0269015636142134, 0.05063169378746191, 0.25...   \n",
      "4  [0.03463794503044222, 0.051772111944321145, 0....   \n",
      "\n",
      "                                          ff_fcf_yld  \\\n",
      "0  [0.023601629634654293, 0.02329641672892596, 0....   \n",
      "1  [0.023735093416761, 0.024216094013237023, 0.02...   \n",
      "2  [0.020152396725682503, 0.02109486802399029, 0....   \n",
      "3  [0.02266679094170522, 0.023385129394770776, 0....   \n",
      "4  [0.02300988111459566, 0.02263762322188838, 0.0...   \n",
      "\n",
      "                                     ff_non_oper_exp  \\\n",
      "0  [-0.18739735577828706, -0.2533071441248856, -0...   \n",
      "1  [-0.011180540701801904, -0.025891982964955366,...   \n",
      "2  [-0.008041042681852392, -0.065647275585435, -0...   \n",
      "3  [-0.008626779822898894, -0.021127352362586352,...   \n",
      "4  [-0.04902126386765047, 0.0815896000524511, -0....   \n",
      "\n",
      "                                      ff_net_inc_dil  \\\n",
      "0  [0.05503166482147118, 0.03647413714847637, -0....   \n",
      "1  [-0.19653261165282862, -0.207077480683797, -0....   \n",
      "2  [-0.187717237711432, -0.2314291333297556, -0.2...   \n",
      "3  [-0.18618359068980572, -0.1366778623757566, -0...   \n",
      "4  [-0.14451570478968986, -0.08043534887217459, -...   \n",
      "\n",
      "                             ff_net_inc_dil_aft_xord  \\\n",
      "0  [0.04969864633774077, 0.01771081939748187, -0....   \n",
      "1  [-0.19988361755585202, -0.16726550353231598, -...   \n",
      "2  [-0.18693330984681417, -0.23228892876599627, -...   \n",
      "3  [-0.15139669109252415, -0.1382839427726639, -0...   \n",
      "4  [-0.14623209490344855, -0.08172390627381837, -...   \n",
      "\n",
      "                                      ff_oper_inc_gr  \\\n",
      "0  [-0.014623135735078976, 0.010064929922384468, ...   \n",
      "1  [0.016529781624139556, 0.02422430090009172, 0....   \n",
      "2  [0.13190319689086602, 0.011687845037294068, 0....   \n",
      "3  [-0.0033191717445388317, 0.042023023438094914,...   \n",
      "4  [-0.024467655498836016, -0.011805093785822923,...   \n",
      "\n",
      "                              ff_ut_non_oper_inc_oth  \\\n",
      "0  [-0.03760380911335577, 0.01874946450772315, -0...   \n",
      "1  [0.0, 0.0, 0.0, 0.0, 0.0, 0.0, 0.0, 0.0, 0.0, ...   \n",
      "2  [-0.087465014184375, -0.07578730088991846, -0....   \n",
      "3  [-0.09329475588715938, -0.09428802056952698, -...   \n",
      "4  [-0.06886836255684604, -0.07220711145573831, -...   \n",
      "\n",
      "                                            ff_sales  label  \n",
      "0  [-0.02655210577614684, -0.0613586826569411, -0...      0  \n",
      "1  [-0.23117548820426434, -0.2421369177741151, -0...      0  \n",
      "2  [-0.24034993067461138, -0.2366016381347019, -0...      0  \n",
      "3  [-0.21538225851556156, -0.20678812476023364, -...      0  \n",
      "4  [-0.13378926097881239, -0.14510303239823197, -...      0  \n",
      "Number of records:  4308\n"
     ]
    },
    {
     "ename": "ValueError",
     "evalue": "setting an array element with a sequence.",
     "output_type": "error",
     "traceback": [
      "\u001b[0;31m---------------------------------------------------------------------------\u001b[0m",
      "\u001b[0;31mTypeError\u001b[0m                                 Traceback (most recent call last)",
      "\u001b[0;31mTypeError\u001b[0m: float() argument must be a string or a real number, not 'list'",
      "\nThe above exception was the direct cause of the following exception:\n",
      "\u001b[0;31mValueError\u001b[0m                                Traceback (most recent call last)",
      "Cell \u001b[0;32mIn [4], line 8\u001b[0m\n\u001b[1;32m      5\u001b[0m filtered_df \u001b[38;5;241m=\u001b[39m df[df[\u001b[38;5;124m'\u001b[39m\u001b[38;5;124mfsym_id\u001b[39m\u001b[38;5;124m'\u001b[39m]\u001b[38;5;241m.\u001b[39misin(full_series_stocks)]\n\u001b[1;32m      6\u001b[0m filtered_df \u001b[38;5;241m=\u001b[39m get_features_all_stocks_seq(filtered_df)\n\u001b[0;32m----> 8\u001b[0m \u001b[43mboruta_fs\u001b[49m\u001b[43m(\u001b[49m\u001b[43mfiltered_df\u001b[49m\u001b[43m)\u001b[49m\n",
      "Cell \u001b[0;32mIn [3], line 25\u001b[0m, in \u001b[0;36mboruta_fs\u001b[0;34m(df)\u001b[0m\n\u001b[1;32m     23\u001b[0m model \u001b[38;5;241m=\u001b[39m xgb\u001b[38;5;241m.\u001b[39mXGBClassifier()\n\u001b[1;32m     24\u001b[0m feat_selector \u001b[38;5;241m=\u001b[39m BorutaPy(model, n_estimators\u001b[38;5;241m=\u001b[39m\u001b[38;5;124m'\u001b[39m\u001b[38;5;124mauto\u001b[39m\u001b[38;5;124m'\u001b[39m, verbose\u001b[38;5;241m=\u001b[39m\u001b[38;5;241m2\u001b[39m, random_state\u001b[38;5;241m=\u001b[39m\u001b[38;5;241m1\u001b[39m)\n\u001b[0;32m---> 25\u001b[0m \u001b[43mfeat_selector\u001b[49m\u001b[38;5;241;43m.\u001b[39;49m\u001b[43mfit\u001b[49m\u001b[43m(\u001b[49m\u001b[43mX_train\u001b[49m\u001b[43m,\u001b[49m\u001b[43m \u001b[49m\u001b[43my_train\u001b[49m\u001b[43m)\u001b[49m\n\u001b[1;32m     27\u001b[0m \u001b[38;5;28mprint\u001b[39m(feat_selector\u001b[38;5;241m.\u001b[39msupport_)\n\u001b[1;32m     28\u001b[0m \u001b[38;5;28mprint\u001b[39m(feat_selector\u001b[38;5;241m.\u001b[39mranking_)\n",
      "File \u001b[0;32m~/Stock-Implosion-Prediction-FYP/Boruta.py:222\u001b[0m, in \u001b[0;36mBorutaPy.fit\u001b[0;34m(self, X, y)\u001b[0m\n\u001b[1;32m    209\u001b[0m \u001b[38;5;28;01mdef\u001b[39;00m \u001b[38;5;21mfit\u001b[39m(\u001b[38;5;28mself\u001b[39m, X, y):\n\u001b[1;32m    210\u001b[0m     \u001b[38;5;124;03m\"\"\"\u001b[39;00m\n\u001b[1;32m    211\u001b[0m \u001b[38;5;124;03m    Fits the Boruta feature selection with the provided estimator.\u001b[39;00m\n\u001b[1;32m    212\u001b[0m \n\u001b[0;32m   (...)\u001b[0m\n\u001b[1;32m    219\u001b[0m \u001b[38;5;124;03m        The target values.\u001b[39;00m\n\u001b[1;32m    220\u001b[0m \u001b[38;5;124;03m    \"\"\"\u001b[39;00m\n\u001b[0;32m--> 222\u001b[0m     \u001b[38;5;28;01mreturn\u001b[39;00m \u001b[38;5;28;43mself\u001b[39;49m\u001b[38;5;241;43m.\u001b[39;49m\u001b[43m_fit\u001b[49m\u001b[43m(\u001b[49m\u001b[43mX\u001b[49m\u001b[43m,\u001b[49m\u001b[43m \u001b[49m\u001b[43my\u001b[49m\u001b[43m)\u001b[49m\n",
      "File \u001b[0;32m~/Stock-Implosion-Prediction-FYP/Boruta.py:288\u001b[0m, in \u001b[0;36mBorutaPy._fit\u001b[0;34m(self, X, y)\u001b[0m\n\u001b[1;32m    286\u001b[0m \u001b[38;5;28;01mdef\u001b[39;00m \u001b[38;5;21m_fit\u001b[39m(\u001b[38;5;28mself\u001b[39m, X, y):\n\u001b[1;32m    287\u001b[0m     \u001b[38;5;66;03m# check input params\u001b[39;00m\n\u001b[0;32m--> 288\u001b[0m     \u001b[38;5;28;43mself\u001b[39;49m\u001b[38;5;241;43m.\u001b[39;49m\u001b[43m_check_params\u001b[49m\u001b[43m(\u001b[49m\u001b[43mX\u001b[49m\u001b[43m,\u001b[49m\u001b[43m \u001b[49m\u001b[43my\u001b[49m\u001b[43m)\u001b[49m\n\u001b[1;32m    290\u001b[0m     \u001b[38;5;28;01mif\u001b[39;00m \u001b[38;5;129;01mnot\u001b[39;00m \u001b[38;5;28misinstance\u001b[39m(X, np\u001b[38;5;241m.\u001b[39mndarray):\n\u001b[1;32m    291\u001b[0m         X \u001b[38;5;241m=\u001b[39m \u001b[38;5;28mself\u001b[39m\u001b[38;5;241m.\u001b[39m_validate_pandas_input(X) \n",
      "File \u001b[0;32m~/Stock-Implosion-Prediction-FYP/Boruta.py:608\u001b[0m, in \u001b[0;36mBorutaPy._check_params\u001b[0;34m(self, X, y)\u001b[0m\n\u001b[1;32m    604\u001b[0m \u001b[38;5;124;03m\"\"\"\u001b[39;00m\n\u001b[1;32m    605\u001b[0m \u001b[38;5;124;03mCheck hyperparameters as well as X and y before proceeding with fit.\u001b[39;00m\n\u001b[1;32m    606\u001b[0m \u001b[38;5;124;03m\"\"\"\u001b[39;00m\n\u001b[1;32m    607\u001b[0m \u001b[38;5;66;03m# check X and y are consistent len, X is Array and y is column\u001b[39;00m\n\u001b[0;32m--> 608\u001b[0m X, y \u001b[38;5;241m=\u001b[39m \u001b[43mcheck_X_y\u001b[49m\u001b[43m(\u001b[49m\u001b[43mX\u001b[49m\u001b[43m,\u001b[49m\u001b[43m \u001b[49m\u001b[43my\u001b[49m\u001b[43m)\u001b[49m\n\u001b[1;32m    609\u001b[0m \u001b[38;5;28;01mif\u001b[39;00m \u001b[38;5;28mself\u001b[39m\u001b[38;5;241m.\u001b[39mperc \u001b[38;5;241m<\u001b[39m\u001b[38;5;241m=\u001b[39m \u001b[38;5;241m0\u001b[39m \u001b[38;5;129;01mor\u001b[39;00m \u001b[38;5;28mself\u001b[39m\u001b[38;5;241m.\u001b[39mperc \u001b[38;5;241m>\u001b[39m \u001b[38;5;241m100\u001b[39m:\n\u001b[1;32m    610\u001b[0m     \u001b[38;5;28;01mraise\u001b[39;00m \u001b[38;5;167;01mValueError\u001b[39;00m(\u001b[38;5;124m'\u001b[39m\u001b[38;5;124mThe percentile should be between 0 and 100.\u001b[39m\u001b[38;5;124m'\u001b[39m)\n",
      "File \u001b[0;32m/opt/jupyterhub/lib/python3.10/site-packages/sklearn/utils/validation.py:1074\u001b[0m, in \u001b[0;36mcheck_X_y\u001b[0;34m(X, y, accept_sparse, accept_large_sparse, dtype, order, copy, force_all_finite, ensure_2d, allow_nd, multi_output, ensure_min_samples, ensure_min_features, y_numeric, estimator)\u001b[0m\n\u001b[1;32m   1069\u001b[0m         estimator_name \u001b[38;5;241m=\u001b[39m _check_estimator_name(estimator)\n\u001b[1;32m   1070\u001b[0m     \u001b[38;5;28;01mraise\u001b[39;00m \u001b[38;5;167;01mValueError\u001b[39;00m(\n\u001b[1;32m   1071\u001b[0m         \u001b[38;5;124mf\u001b[39m\u001b[38;5;124m\"\u001b[39m\u001b[38;5;132;01m{\u001b[39;00mestimator_name\u001b[38;5;132;01m}\u001b[39;00m\u001b[38;5;124m requires y to be passed, but the target y is None\u001b[39m\u001b[38;5;124m\"\u001b[39m\n\u001b[1;32m   1072\u001b[0m     )\n\u001b[0;32m-> 1074\u001b[0m X \u001b[38;5;241m=\u001b[39m \u001b[43mcheck_array\u001b[49m\u001b[43m(\u001b[49m\n\u001b[1;32m   1075\u001b[0m \u001b[43m    \u001b[49m\u001b[43mX\u001b[49m\u001b[43m,\u001b[49m\n\u001b[1;32m   1076\u001b[0m \u001b[43m    \u001b[49m\u001b[43maccept_sparse\u001b[49m\u001b[38;5;241;43m=\u001b[39;49m\u001b[43maccept_sparse\u001b[49m\u001b[43m,\u001b[49m\n\u001b[1;32m   1077\u001b[0m \u001b[43m    \u001b[49m\u001b[43maccept_large_sparse\u001b[49m\u001b[38;5;241;43m=\u001b[39;49m\u001b[43maccept_large_sparse\u001b[49m\u001b[43m,\u001b[49m\n\u001b[1;32m   1078\u001b[0m \u001b[43m    \u001b[49m\u001b[43mdtype\u001b[49m\u001b[38;5;241;43m=\u001b[39;49m\u001b[43mdtype\u001b[49m\u001b[43m,\u001b[49m\n\u001b[1;32m   1079\u001b[0m \u001b[43m    \u001b[49m\u001b[43morder\u001b[49m\u001b[38;5;241;43m=\u001b[39;49m\u001b[43morder\u001b[49m\u001b[43m,\u001b[49m\n\u001b[1;32m   1080\u001b[0m \u001b[43m    \u001b[49m\u001b[43mcopy\u001b[49m\u001b[38;5;241;43m=\u001b[39;49m\u001b[43mcopy\u001b[49m\u001b[43m,\u001b[49m\n\u001b[1;32m   1081\u001b[0m \u001b[43m    \u001b[49m\u001b[43mforce_all_finite\u001b[49m\u001b[38;5;241;43m=\u001b[39;49m\u001b[43mforce_all_finite\u001b[49m\u001b[43m,\u001b[49m\n\u001b[1;32m   1082\u001b[0m \u001b[43m    \u001b[49m\u001b[43mensure_2d\u001b[49m\u001b[38;5;241;43m=\u001b[39;49m\u001b[43mensure_2d\u001b[49m\u001b[43m,\u001b[49m\n\u001b[1;32m   1083\u001b[0m \u001b[43m    \u001b[49m\u001b[43mallow_nd\u001b[49m\u001b[38;5;241;43m=\u001b[39;49m\u001b[43mallow_nd\u001b[49m\u001b[43m,\u001b[49m\n\u001b[1;32m   1084\u001b[0m \u001b[43m    \u001b[49m\u001b[43mensure_min_samples\u001b[49m\u001b[38;5;241;43m=\u001b[39;49m\u001b[43mensure_min_samples\u001b[49m\u001b[43m,\u001b[49m\n\u001b[1;32m   1085\u001b[0m \u001b[43m    \u001b[49m\u001b[43mensure_min_features\u001b[49m\u001b[38;5;241;43m=\u001b[39;49m\u001b[43mensure_min_features\u001b[49m\u001b[43m,\u001b[49m\n\u001b[1;32m   1086\u001b[0m \u001b[43m    \u001b[49m\u001b[43mestimator\u001b[49m\u001b[38;5;241;43m=\u001b[39;49m\u001b[43mestimator\u001b[49m\u001b[43m,\u001b[49m\n\u001b[1;32m   1087\u001b[0m \u001b[43m    \u001b[49m\u001b[43minput_name\u001b[49m\u001b[38;5;241;43m=\u001b[39;49m\u001b[38;5;124;43m\"\u001b[39;49m\u001b[38;5;124;43mX\u001b[39;49m\u001b[38;5;124;43m\"\u001b[39;49m\u001b[43m,\u001b[49m\n\u001b[1;32m   1088\u001b[0m \u001b[43m\u001b[49m\u001b[43m)\u001b[49m\n\u001b[1;32m   1090\u001b[0m y \u001b[38;5;241m=\u001b[39m _check_y(y, multi_output\u001b[38;5;241m=\u001b[39mmulti_output, y_numeric\u001b[38;5;241m=\u001b[39my_numeric, estimator\u001b[38;5;241m=\u001b[39mestimator)\n\u001b[1;32m   1092\u001b[0m check_consistent_length(X, y)\n",
      "File \u001b[0;32m/opt/jupyterhub/lib/python3.10/site-packages/sklearn/utils/validation.py:856\u001b[0m, in \u001b[0;36mcheck_array\u001b[0;34m(array, accept_sparse, accept_large_sparse, dtype, order, copy, force_all_finite, ensure_2d, allow_nd, ensure_min_samples, ensure_min_features, estimator, input_name)\u001b[0m\n\u001b[1;32m    854\u001b[0m         array \u001b[38;5;241m=\u001b[39m array\u001b[38;5;241m.\u001b[39mastype(dtype, casting\u001b[38;5;241m=\u001b[39m\u001b[38;5;124m\"\u001b[39m\u001b[38;5;124munsafe\u001b[39m\u001b[38;5;124m\"\u001b[39m, copy\u001b[38;5;241m=\u001b[39m\u001b[38;5;28;01mFalse\u001b[39;00m)\n\u001b[1;32m    855\u001b[0m     \u001b[38;5;28;01melse\u001b[39;00m:\n\u001b[0;32m--> 856\u001b[0m         array \u001b[38;5;241m=\u001b[39m \u001b[43mnp\u001b[49m\u001b[38;5;241;43m.\u001b[39;49m\u001b[43masarray\u001b[49m\u001b[43m(\u001b[49m\u001b[43marray\u001b[49m\u001b[43m,\u001b[49m\u001b[43m \u001b[49m\u001b[43morder\u001b[49m\u001b[38;5;241;43m=\u001b[39;49m\u001b[43morder\u001b[49m\u001b[43m,\u001b[49m\u001b[43m \u001b[49m\u001b[43mdtype\u001b[49m\u001b[38;5;241;43m=\u001b[39;49m\u001b[43mdtype\u001b[49m\u001b[43m)\u001b[49m\n\u001b[1;32m    857\u001b[0m \u001b[38;5;28;01mexcept\u001b[39;00m ComplexWarning \u001b[38;5;28;01mas\u001b[39;00m complex_warning:\n\u001b[1;32m    858\u001b[0m     \u001b[38;5;28;01mraise\u001b[39;00m \u001b[38;5;167;01mValueError\u001b[39;00m(\n\u001b[1;32m    859\u001b[0m         \u001b[38;5;124m\"\u001b[39m\u001b[38;5;124mComplex data not supported\u001b[39m\u001b[38;5;130;01m\\n\u001b[39;00m\u001b[38;5;132;01m{}\u001b[39;00m\u001b[38;5;130;01m\\n\u001b[39;00m\u001b[38;5;124m\"\u001b[39m\u001b[38;5;241m.\u001b[39mformat(array)\n\u001b[1;32m    860\u001b[0m     ) \u001b[38;5;28;01mfrom\u001b[39;00m \u001b[38;5;21;01mcomplex_warning\u001b[39;00m\n",
      "File \u001b[0;32m/opt/jupyterhub/lib/python3.10/site-packages/pandas/core/generic.py:2070\u001b[0m, in \u001b[0;36mNDFrame.__array__\u001b[0;34m(self, dtype)\u001b[0m\n\u001b[1;32m   2069\u001b[0m \u001b[38;5;28;01mdef\u001b[39;00m \u001b[38;5;21m__array__\u001b[39m(\u001b[38;5;28mself\u001b[39m, dtype: npt\u001b[38;5;241m.\u001b[39mDTypeLike \u001b[38;5;241m|\u001b[39m \u001b[38;5;28;01mNone\u001b[39;00m \u001b[38;5;241m=\u001b[39m \u001b[38;5;28;01mNone\u001b[39;00m) \u001b[38;5;241m-\u001b[39m\u001b[38;5;241m>\u001b[39m np\u001b[38;5;241m.\u001b[39mndarray:\n\u001b[0;32m-> 2070\u001b[0m     \u001b[38;5;28;01mreturn\u001b[39;00m \u001b[43mnp\u001b[49m\u001b[38;5;241;43m.\u001b[39;49m\u001b[43masarray\u001b[49m\u001b[43m(\u001b[49m\u001b[38;5;28;43mself\u001b[39;49m\u001b[38;5;241;43m.\u001b[39;49m\u001b[43m_values\u001b[49m\u001b[43m,\u001b[49m\u001b[43m \u001b[49m\u001b[43mdtype\u001b[49m\u001b[38;5;241;43m=\u001b[39;49m\u001b[43mdtype\u001b[49m\u001b[43m)\u001b[49m\n",
      "\u001b[0;31mValueError\u001b[0m: setting an array element with a sequence."
     ]
    }
   ],
   "source": [
    "from CreateDataset import get_full_series_stocks, get_features_all_stocks_seq\n",
    "\n",
    "df = pd.read_csv('imploded_stocks_price.csv', index_col=False)\n",
    "full_series_stocks = get_full_series_stocks(df) #this gets the stocks that have data since 2001\n",
    "filtered_df = df[df['fsym_id'].isin(full_series_stocks)]\n",
    "filtered_df = get_features_all_stocks_seq(filtered_df)\n",
    "\n",
    "boruta_fs(filtered_df)"
   ]
  },
  {
   "cell_type": "code",
   "execution_count": null,
   "id": "845a2fbe-8f20-415c-bf09-3a949b86200d",
   "metadata": {},
   "outputs": [],
   "source": []
  },
  {
   "cell_type": "code",
   "execution_count": null,
   "id": "edc194ac-ce82-4e8c-b2af-811686f7b601",
   "metadata": {},
   "outputs": [],
   "source": []
  }
 ],
 "metadata": {
  "kernelspec": {
   "display_name": "Python 3 (ipykernel)",
   "language": "python",
   "name": "python3"
  },
  "language_info": {
   "codemirror_mode": {
    "name": "ipython",
    "version": 3
   },
   "file_extension": ".py",
   "mimetype": "text/x-python",
   "name": "python",
   "nbconvert_exporter": "python",
   "pygments_lexer": "ipython3",
   "version": "3.10.12"
  }
 },
 "nbformat": 4,
 "nbformat_minor": 5
}
