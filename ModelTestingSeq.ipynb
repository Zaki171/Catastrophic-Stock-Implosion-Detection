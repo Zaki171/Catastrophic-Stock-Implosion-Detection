{
 "cells": [
  {
   "cell_type": "markdown",
   "id": "0b862fd7-75a8-4818-95c2-5375dde4b345",
   "metadata": {},
   "source": [
    "## Building the dataset that will be input into the model"
   ]
  },
  {
   "cell_type": "code",
   "execution_count": 1,
   "id": "dda6c879-2ecc-475a-9f90-99bccea780bd",
   "metadata": {},
   "outputs": [
    {
     "data": {
      "text/plain": [
       "DataFrame[]"
      ]
     },
     "execution_count": 1,
     "metadata": {},
     "output_type": "execute_result"
    }
   ],
   "source": [
    "import findspark\n",
    "import pandas as pd\n",
    "findspark.init()\n",
    "\n",
    "from pyspark.sql import SparkSession\n",
    "from pyspark import SparkConf\n",
    "\n",
    "# for shared metastore (shared across all users)\n",
    "spark = SparkSession.builder.appName(\"Building dataset\").config(\"hive.metastore.uris\", \"thrift://bialobog:9083\", conf=SparkConf()).getOrCreate() \\\n",
    "\n",
    "# for local metastore (your private, invidivual database) add the following config to spark session\n",
    "spark.sql(\"USE 2023_04_01\")"
   ]
  },
  {
   "cell_type": "code",
   "execution_count": 2,
   "id": "54391b05-47b8-4d4b-b943-eda194771996",
   "metadata": {},
   "outputs": [
    {
     "name": "stderr",
     "output_type": "stream",
     "text": [
      "/opt/spark/python/pyspark/pandas/__init__.py:50: UserWarning: 'PYARROW_IGNORE_TIMEZONE' environment variable was not set. It is required to set this environment variable to '1' in both driver and executor sides if you use pyarrow>=2.0.0. pandas-on-Spark will set it for you but it does not work if there is a Spark context already launched.\n",
      "  warnings.warn(\n"
     ]
    }
   ],
   "source": [
    "import pyspark.pandas as ps\n",
    "from pyspark.sql.functions import lit,col\n",
    "import pandas as pd\n",
    "from sklearn.preprocessing import StandardScaler\n",
    "from sklearn.model_selection import train_test_split\n",
    "import xgboost as xgb\n",
    "#from boruta import BorutaPy\n",
    "#from fredapi import Fred\n",
    "from sklearn.linear_model import Lasso\n",
    "from sklearn.model_selection import TimeSeriesSplit\n",
    "import csv\n",
    "from pyspark.sql import functions as F\n",
    "from functools import reduce\n",
    "from pyspark.ml.feature import VectorAssembler\n",
    "from pyspark.ml import Pipeline\n",
    "from pyspark.ml.linalg import Vectors, VectorUDT\n",
    "from pyspark.sql.functions import udf\n",
    "from pyspark.ml.regression import LinearRegression\n",
    "from pyspark.ml.classification import LogisticRegression\n",
    "from pyspark.ml.evaluation import BinaryClassificationEvaluator\n",
    "from pyspark.ml.tuning import CrossValidator, ParamGridBuilder, CrossValidatorModel\n",
    "from CreateDataset import get_features_all_stocks_seq, get_full_series_stocks"
   ]
  },
  {
   "cell_type": "code",
   "execution_count": 3,
   "id": "ba39e2b3-07f5-4fd9-adf5-735d881bf565",
   "metadata": {},
   "outputs": [
    {
     "name": "stdout",
     "output_type": "stream",
     "text": [
      "File found\n"
     ]
    },
    {
     "name": "stderr",
     "output_type": "stream",
     "text": [
      "/home/ztewari/Stock-Implosion-Prediction-FYP/CreateDataset.py:178: SettingWithCopyWarning: \n",
      "A value is trying to be set on a copy of a slice from a DataFrame.\n",
      "Try using .loc[row_indexer,col_indexer] = value instead\n",
      "\n",
      "See the caveats in the documentation: https://pandas.pydata.org/pandas-docs/stable/user_guide/indexing.html#returning-a-view-versus-a-copy\n",
      "  df['date_for_year'] = df['fsym_id'].map({k: list(generate_dates()) for k, g in df.groupby('fsym_id')})\n"
     ]
    },
    {
     "name": "stdout",
     "output_type": "stream",
     "text": [
      "+--------+----------------------+--------------------+--------------------+--------------------+--------------------+----------------------+--------------------+--------------------+--------------------+--------------------+--------------------+--------------------+--------------------+--------------------------+--------------------+--------------------+--------------------+--------------------+--------------------+--------------------+--------------------+--------------------+--------------------+--------------------+--------------------+--------------------+--------------------+-----+\n",
      "| fsym_id|ff_net_inc_bef_xord_gr|     ff_capex_assets|     ff_div_yld_secs|             ff_roic|         ff_earn_yld|ff_debt_st_x_curr_port|             ff_roce|      ff_oper_inc_gr|    ff_reinvest_rate|            ff_wkcap|  ff_commiss_inc_net| ff_oper_cf_fix_chrg|  ff_debt_entrpr_val|ff_net_inc_dil_bef_unusual|             ff_xord|        ff_xord_disc|      ff_liabs_lease|     ff_pfd_stk_tcap|          ff_div_yld|    ff_gross_cf_debt|          ff_dil_adj|         ff_sales_gr|  ff_net_inc_per_emp|          ff_fcf_yld|     ff_non_oper_exp|          ff_roa_ptx|ff_dfd_tax_assets_lt|label|\n",
      "+--------+----------------------+--------------------+--------------------+--------------------+--------------------+----------------------+--------------------+--------------------+--------------------+--------------------+--------------------+--------------------+--------------------+--------------------------+--------------------+--------------------+--------------------+--------------------+--------------------+--------------------+--------------------+--------------------+--------------------+--------------------+--------------------+--------------------+--------------------+-----+\n",
      "|B01DPB-R|  [0.02524637378734...|[0.05868949781855...|[-0.2691996278911...|[0.00488503398761...|[0.02092100143201...|  [-0.0558812816179...|[0.01778457224817...|[-0.0146231357350...|[0.03968182064968...|[0.18972394868517...|[-0.0715559525856...|[-0.0165460897360...|[-0.4394720290135...|      [0.13504820177528...|[-0.0320803154614...|[-0.2848136878652...|[-0.1147394964923...|[-0.0951685076943...|[-0.1962980293505...|[-0.0502179113740...|[-0.0228317908157...|[-0.1345361672504...|[-0.0189061745245...|[0.02360162963465...|[-0.1873973557782...|[0.01682644868562...|[0.08199068519051...|    0|\n",
      "|B04HL7-R|  [0.03596306030255...|[-0.6893655397723...|[-0.4712869535502...|[0.00417403540399...|[0.02122850411385...|  [-0.0706855409947...|[0.01697045016992...|[0.01652978162413...|[0.04095771098416...|[0.05133152587468...|[-0.0694285683616...|[-0.0360300068205...|[0.13796833870318...|      [-0.2117565233288...|[-0.0320803154614...|[-0.0705403908514...|[-0.1147394964923...|[-0.0951685076943...|[-0.3358952195446...|[-0.0520262847477...|[-0.0228317908157...|[-0.0067872509763...|[-0.0390619076027...|[0.02373509341676...|[-0.0163007308389...|[0.01601938504122...|[-0.1128778474069...|    0|\n",
      "|B0592Z-R|  [0.02776674836477...|[-0.6089570470076...|[-0.4712869535502...|[-0.0432379892493...|[0.01883132013076...|  [-0.0714011497815...|[-0.0217799641226...|[-0.0035136912461...|[-0.0181001702163...|[0.06037517825091...|[-0.0715559525856...|[-0.0218645097840...|[-0.4746866138794...|      [-0.2448225695078...|[-0.0320803154614...|[-0.0705403908514...|[-0.1147394964923...|[-0.0951685076943...|[-0.3358952195446...|[-0.0310491609423...|[-0.0228317908157...|[0.08063222145907...|[-0.7073700559016...|[0.02250587129702...|[-0.0471379926348...|[0.01144951760924...|[-0.1139725727952...|    0|\n",
      "|B14762-R|  [0.25145478204936...|[-0.0320265456131...|[-0.4712869535502...|[0.00657422508835...|[0.02122718618634...|  [-0.0714011497815...|[0.01893215387969...|[3.14125776424247...|[0.04394746133282...|[0.05790699107071...|[-0.0715559525856...|[0.15477343969738...|[-0.4746866138794...|      [-0.2054183675967...|[-0.0320803154614...|[-0.0705403908514...|[-0.1147394964923...|[-0.0951685076943...|[-0.3358952195446...|[-0.0281770807088...|[-0.0228317908157...|[-0.1390978350602...|[-0.0525286654220...|[0.02418421608112...|[-0.0472240458256...|[0.01745365452463...|[-0.1050121342900...|    0|\n",
      "|B14DJ7-R|  [0.03096602123029...|[-0.4165701580280...|[-0.4575980835134...|[0.03272742466278...|[0.02101312919781...|  [-0.0724607968395...|[0.05137973246149...|[0.00974657627681...|[0.07718171141051...|[0.06484359356242...|[-0.0707303730099...|[-0.0195578107321...|[-0.6628747577983...|      [-0.1202432008446...|[-0.0091701404782...|[-0.0506775400660...|[-0.1041571869271...|[-0.0822133414216...|[-0.3662236668516...|[-0.0512117845861...|[-0.0107325696215...|[0.01102542852797...|[-0.0083477916566...|[0.02400231912000...|[-0.0522211073536...|[0.02291907532705...|[-0.0719009428367...|    0|\n",
      "|B14GN9-R|  [0.03522162483882...|[-0.7085438638088...|[0.44440176646457...|[0.00175025507651...|[0.02177336831572...|  [0.32458421724018...|[0.02167775192440...|[-0.0475553446128...|[0.04167545723116...|[-5.4526011143359...|[-0.0715559525856...|[-0.0209544845329...|[0.94435858000875...|      [1.55782462944524...|[-0.0320803154614...|[-0.0705403908514...|[-0.1147394964923...|[-0.0951685076943...|[0.29664109607826...|[-0.0521644408188...|[-0.0228317908157...|[-0.3191574920652...|[0.08955646428226...|[0.01351091281048...|[2.77196422278096...|[0.01611233537260...|[0.31247306390919...|    0|\n",
      "|B15GK7-R|  [-0.0018274282778...|[-0.7582615988682...|[-0.4575980835134...|[-0.1241561787510...|[-0.0760029170739...|  [-0.0724577695198...|[0.03519039068310...|[-0.0127756708210...|[-0.3650865144032...|[0.05591269244499...|[-0.0707303730099...|[-0.0374879115262...|[2.77951718822997...|      [-0.2098448735177...|[-0.0091701404782...|[-0.0506775400660...|[-0.1063044124560...|[-0.0822133414216...|[-0.3662236668516...|[-0.0545604840431...|[-0.0304199367822...|[0.11306662918877...|[-0.3153828000829...|[-0.0504805952500...|[-0.0537019525352...|[-62.721624393634...|[-0.1288548432616...|    1|\n",
      "|B18QS9-R|  [0.06061566602982...|[-0.0512024047177...|[-0.4712869535502...|[0.00836656123444...|[0.02101146407723...|  [-0.0714011497815...|[0.02459491435682...|[0.12026120463398...|[0.05257783707540...|[0.06041161092519...|[-0.0715559525856...|[0.10304992413570...|[-0.3515288520058...|      [-0.1817284082174...|[-0.0320803154614...|[-0.0653747450379...|[-0.1107594930301...|[-0.0951685076943...|[-0.3358952195446...|[-0.0513617706559...|[-0.0228317908157...|[0.59498100816254...|[0.07588359943461...|[0.02362598925782...|[-0.0504533752573...|[0.01744209237419...|[-0.1132435795908...|    0|\n",
      "|B18RVB-R|  [0.06022958449266...|[-0.4179782013364...|[-0.4712869535502...|[0.00258808657344...|[0.02129870414926...|  [-0.0714011497815...|[0.01567423945743...|[0.04401866426663...|[0.03898221060135...|[0.06985977562130...|[-0.0715559525856...|[0.02487808571378...|[-0.4746866138794...|      [-0.1675705165537...|[-0.0320803154614...|[0.63050844901818...|[-0.1147394964923...|[-0.0951685076943...|[-0.3358952195446...|[6.20564722290342...|[-0.0228317908157...|[-0.0710928417335...|[-0.0317401358681...|[0.02386289666202...|[-0.0489384388518...|[0.01645951915162...|[-0.1139725727952...|    0|\n",
      "|B191CL-R|  [0.06700360781499...|[-0.2197745388471...|[0.04346961438472...|[0.01395172563997...|[0.02161576369791...|  [-0.0714011497815...|[0.02496187323695...|[0.04502976173922...|[0.05039819453793...|[0.06143391851231...|[-0.0715559525856...|[-0.0060570036575...|[-0.3984653350225...|      [-0.1896073525013...|[-0.0320803154614...|[-0.0705403908514...|[-0.1147394964923...|[-0.0951685076943...|[0.01968655820074...|[-0.0480562722364...|[-0.0228317908157...|[-0.0333357561146...|[-0.0249827764210...|[0.02360065072832...|[-0.0510090520631...|[0.01741674580484...|[-0.1085458979586...|    0|\n",
      "+--------+----------------------+--------------------+--------------------+--------------------+--------------------+----------------------+--------------------+--------------------+--------------------+--------------------+--------------------+--------------------+--------------------+--------------------------+--------------------+--------------------+--------------------+--------------------+--------------------+--------------------+--------------------+--------------------+--------------------+--------------------+--------------------+--------------------+--------------------+-----+\n",
      "only showing top 10 rows\n",
      "\n"
     ]
    }
   ],
   "source": [
    "df = pd.read_csv('imploded_stocks_price.csv', index_col=False)\n",
    "full_series_stocks = get_full_series_stocks(df) #this gets the stocks that have data since 2001\n",
    "filtered_df = df[df['fsym_id'].isin(full_series_stocks)]\n",
    "filtered_df = get_features_all_stocks_seq(filtered_df) #get stocks that have data in the ff_advanced_der_af for all years, not just prices (or not even)\n",
    "#for boruta, maybe treat each column separately 22*10 features?\n",
    "filtered_df.show(10)"
   ]
  },
  {
   "cell_type": "code",
   "execution_count": 10,
   "id": "63645eaf-dfa5-43d5-ab36-e94c6ced8c79",
   "metadata": {},
   "outputs": [
    {
     "name": "stdout",
     "output_type": "stream",
     "text": [
      "Number of records:  4308\n",
      "+--------+----------------------+--------------------+--------------------+--------------------+--------------------+----------------------+--------------------+--------------------+--------------------+--------------------+--------------------+--------------------+--------------------+--------------------------+--------------------+--------------------+--------------------+--------------------+--------------------+--------------------+--------------------+--------------------+--------------------+--------------------+--------------------+--------------------+--------------------+-----+\n",
      "| fsym_id|ff_net_inc_bef_xord_gr|     ff_capex_assets|     ff_div_yld_secs|             ff_roic|         ff_earn_yld|ff_debt_st_x_curr_port|             ff_roce|      ff_oper_inc_gr|    ff_reinvest_rate|            ff_wkcap|  ff_commiss_inc_net| ff_oper_cf_fix_chrg|  ff_debt_entrpr_val|ff_net_inc_dil_bef_unusual|             ff_xord|        ff_xord_disc|      ff_liabs_lease|     ff_pfd_stk_tcap|          ff_div_yld|    ff_gross_cf_debt|          ff_dil_adj|         ff_sales_gr|  ff_net_inc_per_emp|          ff_fcf_yld|     ff_non_oper_exp|          ff_roa_ptx|ff_dfd_tax_assets_lt|label|\n",
      "+--------+----------------------+--------------------+--------------------+--------------------+--------------------+----------------------+--------------------+--------------------+--------------------+--------------------+--------------------+--------------------+--------------------+--------------------------+--------------------+--------------------+--------------------+--------------------+--------------------+--------------------+--------------------+--------------------+--------------------+--------------------+--------------------+--------------------+--------------------+-----+\n",
      "|B01DPB-R|  [0.02524637378734...|[0.05868949781856...|[-0.2691996278911...|[0.00488503398761...|[0.02092100143201...|  [-0.0558812816179...|[0.01778457224817...|[-0.0146231357350...|[0.03968182064968...|[0.18972394868517...|[-0.0715559525856...|[-0.0165460897360...|[-0.4394720290135...|      [0.13504820177528...|[-0.0320803154614...|[-0.2848136878652...|[-0.1147394964923...|[-0.0951685076943...|[-0.1962980293505...|[-0.0502179113740...|[-0.0228317908157...|[-0.1345361672504...|[-0.0189061745245...|[0.02360162963465...|[-0.1873973557782...|[0.01682644868562...|[0.08199068519051...|    0|\n",
      "|B04HL7-R|  [0.03596306030255...|[-0.6893655397723...|[-0.4712869535502...|[0.00417403540399...|[0.02122850411385...|  [-0.0706855409947...|[0.01697045016992...|[0.01652978162413...|[0.04095771098416...|[0.05133152587468...|[-0.0694285683616...|[-0.0360300068205...|[0.13796833870318...|      [-0.2117565233288...|[-0.0320803154614...|[-0.0705403908514...|[-0.1147394964923...|[-0.0951685076943...|[-0.3358952195446...|[-0.0520262847477...|[-0.0228317908157...|[-0.0067872509763...|[-0.0390619076027...|[0.02373509341676...|[-0.0163007308389...|[0.01601938504122...|[-0.1128778474069...|    0|\n",
      "+--------+----------------------+--------------------+--------------------+--------------------+--------------------+----------------------+--------------------+--------------------+--------------------+--------------------+--------------------+--------------------+--------------------+--------------------------+--------------------+--------------------+--------------------+--------------------+--------------------+--------------------+--------------------+--------------------+--------------------+--------------------+--------------------+--------------------+--------------------+-----+\n",
      "only showing top 2 rows\n",
      "\n",
      "Fold 1 - Validation Accuracy: 0.71549211139599\n",
      "Fold 2 - Validation Accuracy: 0.7222628844317354\n",
      "Fold 3 - Validation Accuracy: 0.7814616673575873\n",
      "Fold 4 - Validation Accuracy: 0.7820843327401763\n",
      "Fold 5 - Validation Accuracy: 0.7636641709175386\n",
      "Fold 6 - Validation Accuracy: 0.7717374554534763\n",
      "Fold 7 - Validation Accuracy: 0.7419942262441057\n",
      "Fold 8 - Validation Accuracy: 0.7417074563147591\n"
     ]
    },
    {
     "data": {
      "image/png": "[encoded data removed]",
      "text/plain": [
       "<Figure size 800x600 with 2 Axes>"
      ]
     },
     "metadata": {},
     "output_type": "display_data"
    }
   ],
   "source": [
    "from sklearn.metrics import confusion_matrix\n",
    "import seaborn as sns\n",
    "import matplotlib.pyplot as plt\n",
    "import numpy as np\n",
    "\n",
    "def train_test_split(df):\n",
    "    train, test = df.randomSplit([0.7,0.3], 22)\n",
    "    return train, test\n",
    "\n",
    "\n",
    "def confusion_matrix_pandas(df):\n",
    "    df = df.toPandas()\n",
    "    cm = confusion_matrix(df['label'], df['prediction'])\n",
    "    plt.figure(figsize=(8, 6))\n",
    "    sns.heatmap(cm, annot=True, fmt=\"d\", cmap=\"Blues\", xticklabels=['Predicted 0', 'Predicted 1'], yticklabels=['Actual 0', 'Actual 1'])\n",
    "    plt.title(f'Confusion Matrix')\n",
    "    plt.xlabel('Predicted')\n",
    "    plt.ylabel('Actual')\n",
    "    plt.show()\n",
    "\n",
    "\n",
    "def model_testing(df):\n",
    "    df = df.filter(reduce(lambda acc, column: acc & (F.size(col(column)) == 22), df.columns[1:-1], lit(True)))\n",
    "\n",
    "    # average_lengths = df.agg(*[(F.avg(F.size(col(column))).alias(f'avg_length_{column}')) for column in df.columns[1:-1]])\n",
    "    \n",
    "    # test = padded_df.select('ff_non_oper_exp').filter(col('fsym_id')=='RTTY5P-R').collect()[0]\n",
    "    # print(test['ff_non_oper_exp'], len(test['ff_non_oper_exp']))\n",
    "\n",
    "    #need to decide whether to only include stocks that started from 2000, or include just from e.g. 2019\n",
    "    #temporary measure - replace with 0\n",
    "    #try imputer?\n",
    "    #look into masking\n",
    "    print(\"Number of records: \", df.count())\n",
    "    features = df.columns[1:-1]\n",
    "    list_to_vector_udf = udf(lambda l: Vectors.dense(l), VectorUDT())\n",
    "    for f in features:\n",
    "        df = df.withColumn(f, list_to_vector_udf(f))\n",
    "    df.show(2)\n",
    "    train_df, test_df = train_test_split(df)\n",
    "    \n",
    "    vector_assembler = VectorAssembler(inputCols=features, outputCol=\"features_vector\")\n",
    "    train_df = vector_assembler.transform(train_df)\n",
    "    test_df = vector_assembler.transform(test_df)\n",
    "    \n",
    "    lr = LogisticRegression(featuresCol=\"features_vector\", labelCol=\"label\")\n",
    "\n",
    "    # pipeline = Pipeline(stages=[vector_assembler, lr])\n",
    "    paramGrid = ParamGridBuilder() \\\n",
    "        .addGrid(lr.regParam, [0.01, 0.1]) \\\n",
    "        .addGrid(lr.elasticNetParam, [0.0, 0.5]) \\\n",
    "        .addGrid(lr.maxIter, [10, 20]) \\\n",
    "        .build()\n",
    "\n",
    "    evaluator = BinaryClassificationEvaluator(labelCol=\"label\", rawPredictionCol=\"rawPrediction\", metricName=\"areaUnderROC\")\n",
    "\n",
    "    crossval = CrossValidator(estimator=lr,\n",
    "                              estimatorParamMaps=paramGrid,\n",
    "                              evaluator=evaluator,\n",
    "                              numFolds=5) \n",
    "\n",
    "    cvModel = crossval.fit(train_df)\n",
    "\n",
    "    avg_metrics = cvModel.avgMetrics\n",
    "\n",
    "    for i, acc in enumerate(avg_metrics):\n",
    "        print(f\"Fold {i + 1} - Validation Accuracy: {acc}\")\n",
    "\n",
    "    best_model = cvModel.bestModel\n",
    "\n",
    "    predictions = best_model.transform(test_df)\n",
    "    \n",
    "    confusion_matrix_pandas(predictions.select('label', 'prediction'))\n",
    "    \n",
    "    \n",
    "    \n",
    "#     tp = predictions.filter((predictions.label == 1) & (predictions.prediction == 1)).count()\n",
    "#     tn = predictions.filter((predictions.label == 0) & (predictions.prediction == 0)).count()\n",
    "#     fp = predictions.filter((predictions.label == 0) & (predictions.prediction == 1)).count()\n",
    "#     fn = predictions.filter((predictions.label == 1) & (predictions.prediction == 0)).count()\n",
    "    \n",
    "#     print(f\"True Positives: {tp}\")\n",
    "#     print(f\"True Negatives: {tn}\")\n",
    "#     print(f\"False Positives: {fp}\")\n",
    "#     print(f\"False Negatives: {fn}\")\n",
    "\n",
    "#     precision = tp / (tp + fp)\n",
    "#     recall = tp / (tp + fn)\n",
    "#     f1_score = 2 * (precision * recall) / (precision + recall)\n",
    "\n",
    "#     print(f\"Precision: {precision}\")\n",
    "#     print(f\"Recall: {recall}\")\n",
    "#     print(f\"F1 Score: {f1_score}\")\n",
    "\n",
    "\n",
    "def test_pandas(df1):\n",
    "    df1 = df1.toPandas()\n",
    "    exclude_columns = ['fsym_id', 'label']\n",
    "    df = df1[df1.loc[:, ~df1.columns.isin(exclude_columns)].apply(lambda row: all(len(cell) == 23 for cell in row), axis=1)]\n",
    "    print(\"Number of records: \", len(df))\n",
    "    X = df.drop(exclude_columns, axis=1)\n",
    "    y = df['label']\n",
    "    X_train, X_test, y_train, y_test = train_test_split(X, y, test_size=0.3, random_state=42)\n",
    "    lr = LogisticRegression()\n",
    "\n",
    "    param_grid = {\n",
    "        'penalty': ['l1', 'l2'],\n",
    "        'C': [0.01, 0.1, 1.0, 10.0],\n",
    "        'max_iter': [100, 200, 300]\n",
    "    }\n",
    "\n",
    "    grid_search = GridSearchCV(lr, param_grid, cv=5, scoring='roc_auc')\n",
    "\n",
    "    grid_search.fit(X_train, y_train)\n",
    "    \n",
    "    best_model = grid_search.best_estimator_\n",
    "\n",
    "    predictions = best_model.predict(X_test)\n",
    "\n",
    "    auc = roc_auc_score(y_test, predictions)\n",
    "\n",
    "    print(f\"Area under the ROC curve (AUC): {auc}\")\n",
    "    print(\"Best model hyperparameters:\")\n",
    "    print(grid_search.best_params_)\n",
    "    \n",
    "    #extra_df= df[df.apply(lambda row: any(len(cell) != 23 for cell in row), axis=1)]\n",
    "    \n",
    "    \n",
    "    \n",
    "    \n",
    "#create_dataset('FF_ADVANCED_DER_AF')\n",
    "\n",
    "model_testing(filtered_df)\n",
    "#test_pandas(df)"
   ]
  },
  {
   "cell_type": "code",
   "execution_count": null,
   "id": "88d7337e-6ca2-4212-b9d0-17953b8998d2",
   "metadata": {},
   "outputs": [],
   "source": [
    "#spark.sql(\"SELECT MIN(a.p_date) FROM fp_basic_prices a LEFT JOIN sym_ticker_region s ON s.fsym_id = a.fsym_id WHERE s.ticker_region = 'AACQU-US' \").show()"
   ]
  },
  {
   "cell_type": "code",
   "execution_count": 10,
   "id": "e4f034c3-4ed9-400e-a07b-6d2c6be018d0",
   "metadata": {},
   "outputs": [
    {
     "name": "stdout",
     "output_type": "stream",
     "text": [
      "255\n"
     ]
    }
   ],
   "source": [
    "print(filtered_df.filter(F.col('label')==1).count())"
   ]
  },
  {
   "cell_type": "code",
   "execution_count": null,
   "id": "9d8b9373-fceb-4cf1-9c66-aab50d165c77",
   "metadata": {},
   "outputs": [],
   "source": []
  }
 ],
 "metadata": {
  "kernelspec": {
   "display_name": "Python 3 (ipykernel)",
   "language": "python",
   "name": "python3"
  },
  "language_info": {
   "codemirror_mode": {
    "name": "ipython",
    "version": 3
   },
   "file_extension": ".py",
   "mimetype": "text/x-python",
   "name": "python",
   "nbconvert_exporter": "python",
   "pygments_lexer": "ipython3",
   "version": "3.10.12"
  }
 },
 "nbformat": 4,
 "nbformat_minor": 5
}
