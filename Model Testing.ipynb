{
 "cells": [
  {
   "cell_type": "code",
   "execution_count": 2,
   "id": "654aabc7-bd2e-4d86-a5a3-4059641c19cf",
   "metadata": {},
   "outputs": [
    {
     "name": "stderr",
     "output_type": "stream",
     "text": [
      "/opt/spark/python/pyspark/pandas/__init__.py:50: UserWarning: 'PYARROW_IGNORE_TIMEZONE' environment variable was not set. It is required to set this environment variable to '1' in both driver and executor sides if you use pyarrow>=2.0.0. pandas-on-Spark will set it for you but it does not work if there is a Spark context already launched.\n",
      "  warnings.warn(\n"
     ]
    }
   ],
   "source": [
    "import findspark\n",
    "import pandas as pd\n",
    "findspark.init()\n",
    "\n",
    "from pyspark.sql import SparkSession\n",
    "from pyspark import SparkConf\n",
    "import pyspark.pandas as ps\n",
    "from pyspark.sql.functions import lit,col\n",
    "\n",
    "# for shared metastore (shared across all users)\n",
    "spark = SparkSession.builder.appName(\"Building dataset\").config(\"hive.metastore.uris\", \"thrift://bialobog:9083\", conf=SparkConf()).getOrCreate() \\\n",
    "\n",
    "# for local metastore (your private, invidivual database) add the following config to spark session\n",
    "spark.sql(\"USE 2023_04_01\")\n",
    "spark.stop()"
   ]
  },
  {
   "cell_type": "code",
   "execution_count": 5,
   "id": "74e0d014-f940-4c19-85e3-ddab32e32752",
   "metadata": {},
   "outputs": [
    {
     "ename": "ModuleNotFoundError",
     "evalue": "No module named 'boruta'",
     "output_type": "error",
     "traceback": [
      "\u001b[0;31m---------------------------------------------------------------------------\u001b[0m",
      "\u001b[0;31mModuleNotFoundError\u001b[0m                       Traceback (most recent call last)",
      "Cell \u001b[0;32mIn [5], line 5\u001b[0m\n\u001b[1;32m      3\u001b[0m \u001b[38;5;28;01mfrom\u001b[39;00m \u001b[38;5;21;01msklearn\u001b[39;00m\u001b[38;5;21;01m.\u001b[39;00m\u001b[38;5;21;01mmodel_selection\u001b[39;00m \u001b[38;5;28;01mimport\u001b[39;00m train_test_split\n\u001b[1;32m      4\u001b[0m \u001b[38;5;28;01mimport\u001b[39;00m \u001b[38;5;21;01mxgboost\u001b[39;00m \u001b[38;5;28;01mas\u001b[39;00m \u001b[38;5;21;01mxgb\u001b[39;00m\n\u001b[0;32m----> 5\u001b[0m \u001b[38;5;28;01mfrom\u001b[39;00m \u001b[38;5;21;01mboruta\u001b[39;00m \u001b[38;5;28;01mimport\u001b[39;00m BorutaPy\n\u001b[1;32m      6\u001b[0m \u001b[38;5;66;03m#from fredapi import Fred\u001b[39;00m\n\u001b[1;32m      7\u001b[0m \u001b[38;5;28;01mfrom\u001b[39;00m \u001b[38;5;21;01msklearn\u001b[39;00m\u001b[38;5;21;01m.\u001b[39;00m\u001b[38;5;21;01mlinear_model\u001b[39;00m \u001b[38;5;28;01mimport\u001b[39;00m Lasso\n",
      "\u001b[0;31mModuleNotFoundError\u001b[0m: No module named 'boruta'"
     ]
    }
   ],
   "source": [
    "\n",
    "import pandas as pd\n",
    "from sklearn.preprocessing import StandardScaler\n",
    "from sklearn.model_selection import train_test_split\n",
    "import xgboost as xgb\n",
    "from boruta import BorutaPy\n",
    "#from fredapi import Fred\n",
    "from sklearn.linear_model import Lasso\n",
    "from sklearn.model_selection import TimeSeriesSplit\n",
    "from sklearn.metrics import mean_squared_error\n",
    "from sklearn.ensemble import RandomForestClassifier"
   ]
  },
  {
   "cell_type": "code",
   "execution_count": 4,
   "id": "d57c8523-119a-4d35-bfed-df9cb6d9471e",
   "metadata": {},
   "outputs": [
    {
     "ename": "NameError",
     "evalue": "name 'BorutaPy' is not defined",
     "output_type": "error",
     "traceback": [
      "\u001b[0;31m---------------------------------------------------------------------------\u001b[0m",
      "\u001b[0;31mNameError\u001b[0m                                 Traceback (most recent call last)",
      "Cell \u001b[0;32mIn [4], line 81\u001b[0m\n\u001b[1;32m     78\u001b[0m     \u001b[38;5;28mprint\u001b[39m(feat_selector\u001b[38;5;241m.\u001b[39mranking_)\n\u001b[1;32m     80\u001b[0m \u001b[38;5;66;03m# preds, coefs = lasso_fs()\u001b[39;00m\n\u001b[0;32m---> 81\u001b[0m \u001b[43mboruta_fs\u001b[49m\u001b[43m(\u001b[49m\u001b[43m)\u001b[49m\n",
      "Cell \u001b[0;32mIn [4], line 74\u001b[0m, in \u001b[0;36mboruta_fs\u001b[0;34m()\u001b[0m\n\u001b[1;32m     71\u001b[0m X_train, X_test, y_train, y_test \u001b[38;5;241m=\u001b[39m train_test_split(X,Y,test_size\u001b[38;5;241m=\u001b[39m\u001b[38;5;241m0.2\u001b[39m, random_state\u001b[38;5;241m=\u001b[39m\u001b[38;5;241m42\u001b[39m)\n\u001b[1;32m     73\u001b[0m model \u001b[38;5;241m=\u001b[39m xgb\u001b[38;5;241m.\u001b[39mXGBClassifier()\n\u001b[0;32m---> 74\u001b[0m feat_selector \u001b[38;5;241m=\u001b[39m \u001b[43mBorutaPy\u001b[49m(model, n_estimators\u001b[38;5;241m=\u001b[39m\u001b[38;5;124m'\u001b[39m\u001b[38;5;124mauto\u001b[39m\u001b[38;5;124m'\u001b[39m, verbose\u001b[38;5;241m=\u001b[39m\u001b[38;5;241m2\u001b[39m, random_state\u001b[38;5;241m=\u001b[39m\u001b[38;5;241m1\u001b[39m)\n\u001b[1;32m     75\u001b[0m feat_selector\u001b[38;5;241m.\u001b[39mfit(X_train, y_train)\n\u001b[1;32m     77\u001b[0m \u001b[38;5;28mprint\u001b[39m(feat_selector\u001b[38;5;241m.\u001b[39msupport_)\n",
      "\u001b[0;31mNameError\u001b[0m: name 'BorutaPy' is not defined"
     ]
    }
   ],
   "source": [
    "def lasso_fs():\n",
    "    result_df = pd.read_csv('Advanced_AF_DER_Dataset.csv', index_col=None)\n",
    "    print(len(result_df))\n",
    "    result_df['date'] = pd.to_datetime(result_df['date'])\n",
    "    result_df['Year'] = result_df['date'].dt.year\n",
    "    result_df['Month'] = result_df['date'].dt.month\n",
    "    result_df['DayOfWeek'] = result_df['date'].dt.dayofweek\n",
    "    X = result_df.drop(['Ticker', 'date', 'Implosion_Next_Year'], axis=1)\n",
    "    cols = X.columns\n",
    "    #print(X.head())\n",
    "    Y = result_df['Implosion_Next_Year']\n",
    "    X_train, X_test, Y_train, Y_test = train_test_split(X, Y, test_size=0.2, random_state=42)\n",
    "    \n",
    "    # Initialize the Lasso regression model\n",
    "    lasso_model = RandomForestClassifier(n_estimators=100, random_state=42)\n",
    "    \n",
    "    # Fit the model on the training data\n",
    "    lasso_model.fit(X_train, Y_train)\n",
    "    \n",
    "    # Get predictions on the test data\n",
    "    predictions = lasso_model.predict(X_test)\n",
    "    \n",
    "    # Evaluate the model (optional)\n",
    "    mse = mean_squared_error(Y_test, predictions)\n",
    "    print(f'Mean Squared Error: {mse}')\n",
    "    \n",
    "    # Get feature coefficients\n",
    "    coefficients = lasso_model.feature_importances_\n",
    "    \n",
    "    # Print the coefficients and corresponding feature names\n",
    "    for feature, coef in zip(cols, coefficients):\n",
    "        print(f'{feature}: {coef}')\n",
    "    \n",
    "    return predictions, coefficients\n",
    "    \n",
    "    \n",
    "    \n",
    "\n",
    "#     tscv = TimeSeriesSplit(n_splits=5)\n",
    "\n",
    "#     for train_index, test_index in tscv.split(X):\n",
    "#         X_train, X_test = X.iloc[train_index], X.iloc[test_index]\n",
    "#         y_train, y_test = Y.iloc[train_index], Y.iloc[test_index]\n",
    "\n",
    "#         scaler = StandardScaler()\n",
    "#         scaler.fit(X_train)\n",
    "#         X_train_scaled = scaler.transform(X_train)\n",
    "#         X_test_scaled = scaler.transform(X_test)\n",
    "\n",
    "#         alpha = 0.01\n",
    "#         lasso_model = Lasso(alpha=alpha)\n",
    "#         lasso_model.fit(X_train_scaled, y_train)\n",
    "\n",
    "#         feature_importances = lasso_model.coef_\n",
    "\n",
    "#         feature_importance_df = pd.DataFrame({'Feature': cols, 'Importance': feature_importances})\n",
    "\n",
    "#         feature_importance_df['Absolute Importance'] = feature_importance_df['Importance'].abs()\n",
    "#         feature_importance_df = feature_importance_df.sort_values(by='Absolute Importance', ascending=False).drop('Absolute Importance', axis=1)\n",
    "#         print(f'Feature Importances for Fold {tscv.get_n_splits()}:')\n",
    "#         print(feature_importance_df)\n",
    "        \n",
    "        \n",
    "def boruta_fs():\n",
    "    result_df = pd.read_csv('Advanced_AF_DER_Dataset.csv', index_col=None)\n",
    "    X = result_df.drop(['Ticker', 'date', 'Implosion_Next_Year'], axis=1)\n",
    "    Y = result_df['Implosion_Next_Year']\n",
    "    scaler = StandardScaler()\n",
    "    scaler.fit(X)\n",
    "    X=scaler.transform(X)\n",
    "    X_train, X_test, y_train, y_test = train_test_split(X,Y,test_size=0.2, random_state=42)\n",
    "    \n",
    "    model = xgb.XGBClassifier()\n",
    "    feat_selector = BorutaPy(model, n_estimators='auto', verbose=2, random_state=1)\n",
    "    feat_selector.fit(X_train, y_train)\n",
    "    \n",
    "    print(feat_selector.support_)\n",
    "    print(feat_selector.ranking_)\n",
    "    \n",
    "# preds, coefs = lasso_fs()\n",
    "boruta_fs()\n",
    "    \n",
    "    \n"
   ]
  },
  {
   "cell_type": "code",
   "execution_count": null,
   "id": "4b969c5f-b3f1-4fc3-b112-5cde240310a3",
   "metadata": {},
   "outputs": [],
   "source": []
  }
 ],
 "metadata": {
  "kernelspec": {
   "display_name": "Python 3 (ipykernel)",
   "language": "python",
   "name": "python3"
  },
  "language_info": {
   "codemirror_mode": {
    "name": "ipython",
    "version": 3
   },
   "file_extension": ".py",
   "mimetype": "text/x-python",
   "name": "python",
   "nbconvert_exporter": "python",
   "pygments_lexer": "ipython3",
   "version": "3.10.12"
  }
 },
 "nbformat": 4,
 "nbformat_minor": 5
}
